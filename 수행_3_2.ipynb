{
  "nbformat": 4,
  "nbformat_minor": 0,
  "metadata": {
    "colab": {
      "provenance": [],
      "authorship_tag": "ABX9TyNzJLXfoRnrSJTkcp9i93pH",
      "include_colab_link": true
    },
    "kernelspec": {
      "name": "python3",
      "display_name": "Python 3"
    },
    "language_info": {
      "name": "python"
    }
  },
  "cells": [
    {
      "cell_type": "markdown",
      "metadata": {
        "id": "view-in-github",
        "colab_type": "text"
      },
      "source": [
        "<a href=\"https://colab.research.google.com/github/dodch0317/colab/blob/main/%EC%88%98%ED%96%89_3_2.ipynb\" target=\"_parent\"><img src=\"https://colab.research.google.com/assets/colab-badge.svg\" alt=\"Open In Colab\"/></a>"
      ]
    },
    {
      "cell_type": "code",
      "execution_count": 2,
      "metadata": {
        "colab": {
          "base_uri": "https://localhost:8080/"
        },
        "id": "GUMDohxPcQU6",
        "outputId": "a532909c-1cae-456e-db9b-33d73933ea47"
      },
      "outputs": [
        {
          "output_type": "stream",
          "name": "stdout",
          "text": [
            "숫자를 입력 ==> 150\n",
            "100보다 크고 1000보다 작군요\n"
          ]
        }
      ],
      "source": [
        "num = int(input(\"숫자를 입력 ==> \"))\n",
        "if num > 100 :\n",
        "  if num < 1000 :\n",
        "    print(\"100보다 크고 1000보다 작군요\")\n",
        "  else : \n",
        "        print(\"1000보다 크군요\")\n",
        "else:\n",
        "        print(\"100보다 작군요\")"
      ]
    }
  ]
}