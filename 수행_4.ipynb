{
  "nbformat": 4,
  "nbformat_minor": 0,
  "metadata": {
    "colab": {
      "provenance": [],
      "authorship_tag": "ABX9TyPD1BJG6JZjyqgXEuEn2iKy",
      "include_colab_link": true
    },
    "kernelspec": {
      "name": "python3",
      "display_name": "Python 3"
    },
    "language_info": {
      "name": "python"
    }
  },
  "cells": [
    {
      "cell_type": "markdown",
      "metadata": {
        "id": "view-in-github",
        "colab_type": "text"
      },
      "source": [
        "<a href=\"https://colab.research.google.com/github/dodch0317/colab/blob/main/%EC%88%98%ED%96%89_4.ipynb\" target=\"_parent\"><img src=\"https://colab.research.google.com/assets/colab-badge.svg\" alt=\"Open In Colab\"/></a>"
      ]
    },
    {
      "cell_type": "code",
      "execution_count": 14,
      "metadata": {
        "colab": {
          "base_uri": "https://localhost:8080/"
        },
        "id": "h50-bX5rcDhT",
        "outputId": "1dcf34ab-265a-4f3f-e82e-669abebf102f"
      },
      "outputs": [
        {
          "output_type": "stream",
          "name": "stdout",
          "text": [
            "2 x 1 = 2\n",
            "2 x 2 = 4\n",
            "2 x 3 = 6\n",
            "2 x 4 = 8\n",
            "2 x 5 = 10\n",
            "2 x 6 = 12\n",
            "2 x 7 = 14\n",
            "2 x 8 = 16\n",
            "2 x 9 = 18\n",
            "3 x 1 = 3\n",
            "3 x 2 = 6\n",
            "3 x 3 = 9\n",
            "3 x 4 = 12\n",
            "3 x 5 = 15\n",
            "3 x 6 = 18\n",
            "3 x 7 = 21\n",
            "3 x 8 = 24\n",
            "3 x 9 = 27\n",
            "4 x 1 = 4\n",
            "4 x 2 = 8\n",
            "4 x 3 = 12\n",
            "4 x 4 = 16\n",
            "4 x 5 = 20\n",
            "4 x 6 = 24\n",
            "4 x 7 = 28\n",
            "4 x 8 = 32\n",
            "4 x 9 = 36\n",
            "5 x 1 = 5\n",
            "5 x 2 = 10\n",
            "5 x 3 = 15\n",
            "5 x 4 = 20\n",
            "5 x 5 = 25\n",
            "5 x 6 = 30\n",
            "5 x 7 = 35\n",
            "5 x 8 = 40\n",
            "5 x 9 = 45\n",
            "6 x 1 = 6\n",
            "6 x 2 = 12\n",
            "6 x 3 = 18\n",
            "6 x 4 = 24\n",
            "6 x 5 = 30\n",
            "6 x 6 = 36\n",
            "6 x 7 = 42\n",
            "6 x 8 = 48\n",
            "6 x 9 = 54\n",
            "7 x 1 = 7\n",
            "7 x 2 = 14\n",
            "7 x 3 = 21\n",
            "7 x 4 = 28\n",
            "7 x 5 = 35\n",
            "7 x 6 = 42\n",
            "7 x 7 = 49\n",
            "7 x 8 = 56\n",
            "7 x 9 = 63\n",
            "8 x 1 = 8\n",
            "8 x 2 = 16\n",
            "8 x 3 = 24\n",
            "8 x 4 = 32\n",
            "8 x 5 = 40\n",
            "8 x 6 = 48\n",
            "8 x 7 = 56\n",
            "8 x 8 = 64\n",
            "8 x 9 = 72\n",
            "9 x 1 = 9\n",
            "9 x 2 = 18\n",
            "9 x 3 = 27\n",
            "9 x 4 = 36\n",
            "9 x 5 = 45\n",
            "9 x 6 = 54\n",
            "9 x 7 = 63\n",
            "9 x 8 = 72\n",
            "9 x 9 = 81\n"
          ]
        }
      ],
      "source": [
        "for dan in range(2, 10): \n",
        "    for i in range(1, 10): \n",
        "        print(f'{dan} x {i} = {dan * i}')"
      ]
    },
    {
      "cell_type": "code",
      "source": [
        "hap, i=0,0\n",
        "\n",
        "for i in range(1,101) :\n",
        "    if i  % 4==0 :\n",
        "        continue\n",
        "\n",
        "    hap+=i\n",
        "\n",
        "\n",
        "print(\"1~100의 합계(4의 배수 제외) : %d\" % hap)"
      ],
      "metadata": {
        "colab": {
          "base_uri": "https://localhost:8080/"
        },
        "id": "HqtKfOOceEPM",
        "outputId": "7ae5b2e1-f933-4dc8-cbbc-c9ee695a9044"
      },
      "execution_count": 15,
      "outputs": [
        {
          "output_type": "stream",
          "name": "stdout",
          "text": [
            "1~100의 합계(4의 배수 제외) : 3750\n"
          ]
        }
      ]
    },
    {
      "cell_type": "code",
      "source": [
        "import random\n",
        "\n",
        "dice1, dice2, dice3 = [0] * 3\n",
        "throwCount, serialCount = 0, 0\n",
        "\n",
        "if __name__ == \"__main__\":\n",
        "    while(True):\n",
        "        throwCount += 1\n",
        "        dice1 = random.randint(1, 6)  \n",
        "        dice2 = random.randint(1, 6)\n",
        "        dice3 = random.randint(1, 6)\n",
        "\n",
        "            \n",
        "\n",
        "        if dice1 == dice2 and dice1 == dice3 and dice1:  \n",
        "            print(\"3개 주사위가 모두 동일한 숫자가 나옴 --->\",dice1, dice2, dice3)\n",
        "            print('3개가 동일한 숫자가 나올 때까지 주사위를 던진 횟수 --->',throwCount)\n",
        "            break"
      ],
      "metadata": {
        "colab": {
          "base_uri": "https://localhost:8080/"
        },
        "id": "nzdc231belj0",
        "outputId": "2d43d914-0b76-4f9b-88e5-73d64ffe9313"
      },
      "execution_count": 21,
      "outputs": [
        {
          "output_type": "stream",
          "name": "stdout",
          "text": [
            "3개 주사위가 모두 동일한 숫자가 나옴 ---> 2 2 2\n",
            "3개가 동일한 숫자가 나올 때까지 주사위를 던진 횟수 ---> 11\n"
          ]
        }
      ]
    },
    {
      "cell_type": "code",
      "source": [
        "import random\n",
        "\n",
        "computer = random.randint(1,5)\n",
        "cnt = 0\n",
        "\n",
        "while True:\n",
        "    cnt = +1\n",
        "    usr = int(input('입력 : '))\n",
        "    if usr == computer:\n",
        "        print('정답입니다.')\n",
        "        break\n",
        "    else:\n",
        "        print(\"오답입니다.\")\n",
        "        print(\"*\"*40)\n",
        "        \n",
        "    if cnt == 10:\n",
        "        print('10회 초과, 정답은 %d 입니다.'%computer)\n",
        "        break"
      ],
      "metadata": {
        "colab": {
          "base_uri": "https://localhost:8080/"
        },
        "id": "i8xQP4ZTffnS",
        "outputId": "2ece263e-472e-44dc-c24c-e2326038f0c1"
      },
      "execution_count": 26,
      "outputs": [
        {
          "output_type": "stream",
          "name": "stdout",
          "text": [
            "입력 : 3\n",
            "오답입니다.\n",
            "****************************************\n",
            "입력 : 3\n",
            "오답입니다.\n",
            "****************************************\n",
            "입력 : 2\n",
            "정답입니다.\n"
          ]
        }
      ]
    }
  ]
}