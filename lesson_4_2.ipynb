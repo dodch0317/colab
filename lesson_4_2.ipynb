{
  "nbformat": 4,
  "nbformat_minor": 0,
  "metadata": {
    "colab": {
      "name": "lesson 4_2",
      "provenance": [],
      "authorship_tag": "ABX9TyNEhqBldQim0Ll6XOs/H9mj",
      "include_colab_link": true
    },
    "kernelspec": {
      "name": "python3",
      "display_name": "Python 3"
    },
    "language_info": {
      "name": "python"
    }
  },
  "cells": [
    {
      "cell_type": "markdown",
      "metadata": {
        "id": "view-in-github",
        "colab_type": "text"
      },
      "source": [
        "<a href=\"https://colab.research.google.com/github/dodch0317/colab/blob/main/lesson_4_2.ipynb\" target=\"_parent\"><img src=\"https://colab.research.google.com/assets/colab-badge.svg\" alt=\"Open In Colab\"/></a>"
      ]
    },
    {
      "cell_type": "code",
      "execution_count": 1,
      "metadata": {
        "colab": {
          "base_uri": "https://localhost:8080/"
        },
        "id": "K9cCVDGeQ9AF",
        "outputId": "b975b6ff-2d44-41d4-93e9-aac0859289da"
      },
      "outputs": [
        {
          "output_type": "stream",
          "name": "stdout",
          "text": [
            "원본 문자열 ==> Python\n",
            "변환 문자열 ==> pYTHON\n"
          ]
        }
      ],
      "source": [
        "ss = \"Python\"\n",
        "print(\"원본 문자열 ==>\", ss)\n",
        "\n",
        "ss2 = \"\"\n",
        "\n",
        "ss2 += ss[0].lower()\n",
        "ss2 += ss[1].upper()\n",
        "ss2 += ss[2].upper()\n",
        "ss2 += ss[3].upper()\n",
        "ss2 += ss[4].upper() \n",
        "ss2 += ss[5].upper()\n",
        "\n",
        "print(\"변환 문자열 ==> \", end='')\n",
        "print(ss2)"
      ]
    },
    {
      "cell_type": "markdown",
      "source": [
        "복합대입 연산자 (대문자를 소문자로 소문자를 대문자로 변환하는 프로그램)"
      ],
      "metadata": {
        "id": "jne61PTxVrB_"
      }
    },
    {
      "cell_type": "code",
      "source": [
        "#!pip3 install ColabTurtle\n",
        "import ColabTurtle.Turtle as turtle\n",
        "turtle.initializeTurtle()\n",
        "\n",
        "turtle.shape(\"turtle\")\n",
        "turtle.penup()\n",
        "\n",
        "while turtle:\n",
        "  x = int(input(\"X의 위치 ==> \"))\n",
        "  y = int(input(\"Y의 위치 ==> \"))\n",
        "  text = (input(\"쓰고 싶은 글자 ==>\")\n",
        "\n",
        "  turtle.goto(x,y)\n",
        "  turtle.write(text, font=(\"Arial\", 30))\n",
        "\n",
        "turtle.done()"
      ],
      "metadata": {
        "id": "F-Aofbl3WuwX"
      },
      "execution_count": null,
      "outputs": []
    }
  ]
}