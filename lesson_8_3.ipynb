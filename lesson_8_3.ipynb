{
  "nbformat": 4,
  "nbformat_minor": 0,
  "metadata": {
    "colab": {
      "provenance": [],
      "authorship_tag": "ABX9TyNv2koU8lwxbxnbdNqwwgha",
      "include_colab_link": true
    },
    "kernelspec": {
      "name": "python3",
      "display_name": "Python 3"
    },
    "language_info": {
      "name": "python"
    }
  },
  "cells": [
    {
      "cell_type": "markdown",
      "metadata": {
        "id": "view-in-github",
        "colab_type": "text"
      },
      "source": [
        "<a href=\"https://colab.research.google.com/github/dodch0317/colab/blob/main/lesson_8_3.ipynb\" target=\"_parent\"><img src=\"https://colab.research.google.com/assets/colab-badge.svg\" alt=\"Open In Colab\"/></a>"
      ]
    },
    {
      "cell_type": "code",
      "source": [
        "def checkPassword(pwd):\n",
        "  if len(pwd) < 8:\n",
        "    return False\n",
        "\n",
        "    if iwd.isalnum():\n",
        "      return True\n",
        "    else :\n",
        "      return False\n",
        "\n",
        "password = \"\"\n",
        "\n",
        "paswword = input(\"새로운 비밀번호를 입력하세요: \")\n",
        "\n",
        "if checkPassword(password)  :\n",
        "  print(\"비빌번호가 생성되었습니다.\")\n",
        "else  :\n",
        "  print(\"비밀번호가 규칙에 맞지 않습니다.\")"
      ],
      "metadata": {
        "colab": {
          "base_uri": "https://localhost:8080/"
        },
        "id": "ND7n4hZvb2qh",
        "outputId": "3559e257-ba12-4fd7-b16b-95d81d82eade"
      },
      "execution_count": 8,
      "outputs": [
        {
          "output_type": "stream",
          "name": "stdout",
          "text": [
            "새로운 비밀번호를 입력하세요: 123\n",
            "비밀번호가 규칙에 맞지 않습니다.\n"
          ]
        }
      ]
    },
    {
      "cell_type": "code",
      "source": [
        "import datetime\n",
        "\n",
        "start_date = datetime.datetime.today()\n",
        "d_day = 100\n",
        "target_date = start_date + datetime.timedelta(d_day)\n",
        "\n",
        "print(f\"start date: {start_date}\")\n",
        "print(f\"d-day: {d_day}\")\n",
        "print(f\"target date: {target_date}\")"
      ],
      "metadata": {
        "colab": {
          "base_uri": "https://localhost:8080/"
        },
        "id": "5xkWjaPilmfd",
        "outputId": "0ed47998-6457-46db-b45b-58da9a0442f7"
      },
      "execution_count": 14,
      "outputs": [
        {
          "output_type": "stream",
          "name": "stdout",
          "text": [
            "start date: 2022-10-11 01:18:10.703104\n",
            "d-day: 100\n",
            "target date: 2023-01-19 01:18:10.703104\n"
          ]
        }
      ]
    },
    {
      "cell_type": "code",
      "source": [
        "#!pip3 install ColabTurtle\n",
        "import ColabTurtle.Turtle as turtle\n",
        "\n",
        "import turtle\n",
        "import random\n",
        "\n",
        "def getXYAS():\n",
        "  x, y, size = 0, 0, 0\n",
        "  x = random.randint(-250, 250)\n",
        "  y = random.randint(-250, 250)\n",
        "  size = random.randint(10, 50)\n",
        "  return x, y, size\n",
        "\n",
        "koreanStr = \"\"\" 나랏말싸미 듕귁에 달아 문자와로 서르 사맛디 아니할쎄\n",
        "            이런 젼차로 어린 백셩이 니르고져 홀 배 이셔도\n",
        "            마참내 제 뜨들 시러펴디 몯 할 노미 하니라\n",
        "            내 이랄 위하야 어엿비 너겨 샤로 스믈 여듧 짜랄 맹가노니\n",
        "            사람마다 해여 수비 니겨 나로 쑤메 뼌한킈 하고져 할따라미니라\n",
        "            \"\"\"\n",
        "colorList = [\"red\", \"green\", \"blue\", \"black\", \"megenta\", \"orange\", \"gray\"]\n",
        "tx, ty, txtSize = 0, 0, 0\n",
        "\n",
        "turtle.shape(\"turtle\")\n",
        "turtle.setup(550,550)\n",
        "turtle.screensinze(500, 500)\n",
        "turtle.penup()\n",
        "turtle.speed(5)\n",
        "\n",
        "for ch in koreanStr:\n",
        "  tx, ty, txtSize = getXYAS()\n",
        "  color = random.choice(colorList)\n",
        "  turtle.goto(tx, ty)\n",
        "  turtle.pencolo(color)\n",
        "  turtle.write(ch, font=(\"맑은고딕\", txtSize, \"bold\"))\n",
        "  turtle.done"
      ],
      "metadata": {
        "id": "QaPUzzkFnx1G"
      },
      "execution_count": null,
      "outputs": []
    }
  ]
}