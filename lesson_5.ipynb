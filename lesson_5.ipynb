{
  "nbformat": 4,
  "nbformat_minor": 0,
  "metadata": {
    "colab": {
      "provenance": [],
      "authorship_tag": "ABX9TyNSPaiB3ECIpr5grKJyh31G",
      "include_colab_link": true
    },
    "kernelspec": {
      "name": "python3",
      "display_name": "Python 3"
    },
    "language_info": {
      "name": "python"
    }
  },
  "cells": [
    {
      "cell_type": "markdown",
      "metadata": {
        "id": "view-in-github",
        "colab_type": "text"
      },
      "source": [
        "<a href=\"https://colab.research.google.com/github/dodch0317/colab/blob/main/lesson_5.ipynb\" target=\"_parent\"><img src=\"https://colab.research.google.com/assets/colab-badge.svg\" alt=\"Open In Colab\"/></a>"
      ]
    },
    {
      "cell_type": "code",
      "execution_count": 1,
      "metadata": {
        "colab": {
          "base_uri": "https://localhost:8080/"
        },
        "id": "QixFpUKEzq3D",
        "outputId": "6d630cfe-d817-466c-da49-8f07f87ea73b"
      },
      "outputs": [
        {
          "output_type": "stream",
          "name": "stdout",
          "text": [
            "100보다 작습니다.\n"
          ]
        }
      ],
      "source": [
        "num = 99\n",
        "if num < 100 :\n",
        "  print(\"100보다 작습니다.\")"
      ]
    },
    {
      "cell_type": "markdown",
      "source": [
        "if문 예제"
      ],
      "metadata": {
        "id": "r0mFDvmq5ARK"
      }
    },
    {
      "cell_type": "code",
      "source": [
        "num = 200\n",
        "if num > 100 :\n",
        "  print(\"100보다 \")\n",
        "  print(\"큽니다.\")\n",
        "  print(\"프로그램 끝\")"
      ],
      "metadata": {
        "colab": {
          "base_uri": "https://localhost:8080/"
        },
        "id": "GuS7xXtz3VGR",
        "outputId": "26f7eec0-7c6c-426a-f470-eecd5301ac02"
      },
      "execution_count": 2,
      "outputs": [
        {
          "output_type": "stream",
          "name": "stdout",
          "text": [
            "100보다 \n",
            "큽니다.\n",
            "프로그램 끝\n"
          ]
        }
      ]
    },
    {
      "cell_type": "markdown",
      "source": [
        "if else문 예제"
      ],
      "metadata": {
        "id": "v_zljDBB47_C"
      }
    },
    {
      "cell_type": "code",
      "source": [
        "num = 200\n",
        "if num < 100 :\n",
        "    print(\"100보다 작군요.\")\n",
        "else : \n",
        "    print(\"100보다 크군요.\")"
      ],
      "metadata": {
        "colab": {
          "base_uri": "https://localhost:8080/"
        },
        "id": "-JHsvypw4lA7",
        "outputId": "440736ca-eab6-4f90-972d-d73e2e420957"
      },
      "execution_count": 3,
      "outputs": [
        {
          "output_type": "stream",
          "name": "stdout",
          "text": [
            "100보다 크군요.\n"
          ]
        }
      ]
    },
    {
      "cell_type": "markdown",
      "source": [
        "짝수 홀수 판별 프로그램"
      ],
      "metadata": {
        "id": "eMcIvGCD5hAT"
      }
    },
    {
      "cell_type": "code",
      "source": [
        "num = int(input(\"정수를 입력: \"))\n",
        "if(num % 2) == 0 :\n",
        "    print(num, \"짝수입니다.\")\n",
        "else :\n",
        "    print(num, \"홀수입니다.\")"
      ],
      "metadata": {
        "colab": {
          "base_uri": "https://localhost:8080/"
        },
        "id": "enZKkPMY5DML",
        "outputId": "5f484b2e-fd4a-4a7c-9b1a-8cf1655568c9"
      },
      "execution_count": 6,
      "outputs": [
        {
          "output_type": "stream",
          "name": "stdout",
          "text": [
            "정수를 입력: 1\n",
            "1 홀수입니다.\n"
          ]
        }
      ]
    },
    {
      "cell_type": "code",
      "source": [
        "num = int(input(\"숫자를 입력 ==> \"))\n",
        "if num > 100 :\n",
        "  if num < 1000 :\n",
        "    print(\"100보다 크고 1000보다 작군요\")\n",
        "  else : \n",
        "        print(\"1000보다 크군요\")\n",
        "else:\n",
        "        print(\"100보다 작군요\")"
      ],
      "metadata": {
        "colab": {
          "base_uri": "https://localhost:8080/"
        },
        "id": "PzaO2plg6RXS",
        "outputId": "f6588fee-f181-4c67-8a56-3e2f2c78e2bd"
      },
      "execution_count": 9,
      "outputs": [
        {
          "output_type": "stream",
          "name": "stdout",
          "text": [
            "숫자를 입력 ==> 1234\n",
            "1000보다 크군요\n"
          ]
        }
      ]
    },
    {
      "cell_type": "code",
      "source": [
        "score = int(input(\"점수를 입력 == > \"))\n",
        "\n",
        "if score >= 90 :\n",
        "  print(\"A\", end='')\n",
        "else :\n",
        "  if score >= 80 :\n",
        "    print(\"B\", end='')\n",
        "  else :\n",
        "    if score >= 70 :\n",
        "      print(\"C\", end='')\n",
        "    else :\n",
        "      if score >= 60 :\n",
        "        print(\"D\", end='')\n",
        "      else :\n",
        "        print(\"F\", end='')\n",
        "print(\"학점입니다.\")"
      ],
      "metadata": {
        "colab": {
          "base_uri": "https://localhost:8080/"
        },
        "id": "d5DcKu7N8rEC",
        "outputId": "562fe875-a00c-4806-ae3d-a8ee06c8c7dd"
      },
      "execution_count": 12,
      "outputs": [
        {
          "output_type": "stream",
          "name": "stdout",
          "text": [
            "점수를 입력 == > 83\n",
            "B학점입니다.\n"
          ]
        }
      ]
    },
    {
      "cell_type": "code",
      "source": [
        "score = int(input(\"점수를 입력 ==> \"))\n",
        "\n",
        "if score >= 90 :\n",
        "  print(\"A\", end='')\n",
        "elif score >= 80 :\n",
        "  print(\"B\", end='')\n",
        "elif score >= 70 :\n",
        "  print(\"C\", end='')\n",
        "elif score >= 60 :\n",
        "  print(\"D\", end='')\n",
        "else :\n",
        "  print(\"F\", end='')\n",
        "  print(\"학점입니다.\")"
      ],
      "metadata": {
        "colab": {
          "base_uri": "https://localhost:8080/"
        },
        "id": "YxKZMLOqBUFB",
        "outputId": "7c67866d-4e37-4411-93dd-208376af388f"
      },
      "execution_count": 14,
      "outputs": [
        {
          "output_type": "stream",
          "name": "stdout",
          "text": [
            "점수를 입력 ==> 12\n",
            "F학점입니다.\n"
          ]
        }
      ]
    },
    {
      "cell_type": "code",
      "source": [
        "import random\n",
        "\n",
        "rnd = random.randint(1,45)\n",
        "lunch = random.choice([\"짜장면\", \"라면\", \"김밥\", \"짬뽕\"])\n",
        "print(rnd, lunch)"
      ],
      "metadata": {
        "colab": {
          "base_uri": "https://localhost:8080/"
        },
        "id": "cjZNugnADt4e",
        "outputId": "28c34a09-883a-4e33-9247-6a5303324685"
      },
      "execution_count": 25,
      "outputs": [
        {
          "output_type": "stream",
          "name": "stdout",
          "text": [
            "21 짜장면\n"
          ]
        }
      ]
    },
    {
      "cell_type": "markdown",
      "source": [
        "가위바위보 게임"
      ],
      "metadata": {
        "id": "MvaSMl0TGk9J"
      }
    },
    {
      "cell_type": "code",
      "source": [
        "import random\n",
        "\n",
        "myHand = input(\"나의 가위/바위/보 ==> \")\n",
        "comHand = random.choice([\"가위\", \"바위\", \"보\"])\n",
        "print(\"컴퓨터의 가위/바위/보 ==> \", comHand)\n",
        "\n",
        "if myHand == comHand :\n",
        "  print(\"비겼습니다.\")\n",
        "elif (myHand == \"가위\" and comHand == \"보\") or \\\n",
        "      (myHand == \"바위\" and comHand == \"가위\") or \\\n",
        "      (myHand == \"보\" and comHand == \"바위\"):\n",
        "      print(\"이겼습니다\")"
      ],
      "metadata": {
        "colab": {
          "base_uri": "https://localhost:8080/"
        },
        "id": "GW4XHtsoGmkJ",
        "outputId": "e1f4cf70-c548-4300-9440-ee53eb63eb35"
      },
      "execution_count": 46,
      "outputs": [
        {
          "output_type": "stream",
          "name": "stdout",
          "text": [
            "나의 가위/바위/보 ==> 가위\n",
            "컴퓨터의 가위/바위/보 ==>  보\n",
            "이겼습니다.\n"
          ]
        }
      ]
    },
    {
      "cell_type": "code",
      "source": [
        "import random\n",
        "print(\"** 가위 바위 보 게임 **\")\n",
        "count = 7\n",
        "while count > 0 :\n",
        "  com_player = random.choice([\"가위\", \"바위\", \"보\"])\n",
        "  user_player = input(\"가위/바위/보 중 하나를 입력하세요 ==> \")\n",
        "  if (com_player == user_player) :\n",
        "    print(\"비겼다.\")\n",
        "  elif ((com_player == \"가위\") and (user_player == \"바위\")) or \\\n",
        "    ((com_player == \"바위\") and (user_player == \"보\")) or \\\n",
        "    ((com_player == \"보\") and (user_player == \"가위\")) :\n",
        "    print(\"이겼다.\")\n",
        "  else :\n",
        "    print(\"졌다.\")\n",
        "  count = count - 1"
      ],
      "metadata": {
        "colab": {
          "base_uri": "https://localhost:8080/"
        },
        "id": "k1m1eC-zH9DT",
        "outputId": "305f4567-e4c0-48c2-f2af-c91f802c4179"
      },
      "execution_count": 47,
      "outputs": [
        {
          "output_type": "stream",
          "name": "stdout",
          "text": [
            "** 가위 바위 보 게임 **\n",
            "가위/바위/보 중 하나를 입력하세요 ==> 가위\n",
            "비겼다.\n",
            "가위/바위/보 중 하나를 입력하세요 ==> 가위\n",
            "비겼다.\n",
            "가위/바위/보 중 하나를 입력하세요 ==> 가위\n",
            "이겼다.\n",
            "가위/바위/보 중 하나를 입력하세요 ==> 가위\n",
            "이겼다.\n",
            "가위/바위/보 중 하나를 입력하세요 ==> 가위\n",
            "졌다.\n",
            "가위/바위/보 중 하나를 입력하세요 ==> 가위\n",
            "졌다.\n",
            "가위/바위/보 중 하나를 입력하세요 ==> 가위\n",
            "졌다.\n"
          ]
        }
      ]
    },
    {
      "cell_type": "code",
      "source": [
        "#!pip3 install ColabTurtle\n",
        "import ColabTurtle.Turtle as turtle\n",
        "import random\n",
        "turtle.initializeTurtle()\n",
        "print(turtle.DEFAULT_WINDOW_SIZE)\n",
        "\n",
        "while True :\n",
        "  turtle.left(random.randint(0, 360))\n",
        "  turtle.forward(random.randint(100,200))\n",
        "  print(turtle.getx(), turtle.gety())\n",
        "  if 750 <= turtle.getx() or turtle.getx() <= 80 or \\\n",
        "   (450 <= turtle.gety() or turtle.gety() <= 50) :\n",
        "\n",
        "   r = random.randint(0,255)\n",
        "   g = random.randint(0,255)\n",
        "   b = random.randint(0,255)\n",
        "   turtle.color( (r,g,b))\n",
        "   turtle.goto(400,250)"
      ],
      "metadata": {
        "colab": {
          "base_uri": "https://localhost:8080/",
          "height": 1000
        },
        "id": "wkIGhSHbmQM6",
        "outputId": "9cb83fd1-6d60-4223-ffea-157195ef098e"
      },
      "execution_count": null,
      "outputs": [
        {
          "output_type": "display_data",
          "data": {
            "text/plain": [
              "<IPython.core.display.HTML object>"
            ],
            "text/html": [
              "\n",
              "      <svg width=\"800\" height=\"500\">\n",
              "        <rect width=\"100%\" height=\"100%\" fill=\"black\"/>\n",
              "        <line x1=\"400\" y1=\"250\" x2=\"546.799\" y2=\"242.307\" stroke-linecap=\"round\" style=\"stroke:white;stroke-width:4\"/><line x1=\"546.799\" y1=\"242.307\" x2=\"639.784\" y2=\"314.955\" stroke-linecap=\"round\" style=\"stroke:white;stroke-width:4\"/><line x1=\"639.784\" y1=\"314.955\" x2=\"831.667\" y2=\"321.656\" stroke-linecap=\"round\" style=\"stroke:white;stroke-width:4\"/><line x1=\"831.667\" y1=\"321.656\" x2=\"400\" y2=\"250\" stroke-linecap=\"round\" style=\"stroke:rgb(20,87,21);stroke-width:4\"/><line x1=\"400\" y1=\"250\" x2=\"429.316\" y2=\"112.081\" stroke-linecap=\"round\" style=\"stroke:rgb(20,87,21);stroke-width:4\"/><line x1=\"429.316\" y1=\"112.081\" x2=\"589.597\" y2=\"11.926\" stroke-linecap=\"round\" style=\"stroke:rgb(20,87,21);stroke-width:4\"/><line x1=\"589.597\" y1=\"11.926\" x2=\"400\" y2=\"250\" stroke-linecap=\"round\" style=\"stroke:rgb(182,94,172);stroke-width:4\"/><line x1=\"400\" y1=\"250\" x2=\"357.001\" y2=\"100.043\" stroke-linecap=\"round\" style=\"stroke:rgb(182,94,172);stroke-width:4\"/><line x1=\"357.001\" y1=\"100.043\" x2=\"295.191\" y2=\"-26.687\" stroke-linecap=\"round\" style=\"stroke:rgb(182,94,172);stroke-width:4\"/><line x1=\"295.191\" y1=\"-26.687\" x2=\"400\" y2=\"250\" stroke-linecap=\"round\" style=\"stroke:rgb(168,70,250);stroke-width:4\"/><line x1=\"400\" y1=\"250\" x2=\"421.083\" y2=\"421.71\" stroke-linecap=\"round\" style=\"stroke:rgb(168,70,250);stroke-width:4\"/><line x1=\"421.083\" y1=\"421.71\" x2=\"525.403\" y2=\"393.758\" stroke-linecap=\"round\" style=\"stroke:rgb(168,70,250);stroke-width:4\"/><line x1=\"525.403\" y1=\"393.758\" x2=\"602.32\" y2=\"558.706\" stroke-linecap=\"round\" style=\"stroke:rgb(168,70,250);stroke-width:4\"/><line x1=\"602.32\" y1=\"558.706\" x2=\"400\" y2=\"250\" stroke-linecap=\"round\" style=\"stroke:rgb(162,174,93);stroke-width:4\"/><line x1=\"400\" y1=\"250\" x2=\"406.631\" y2=\"439.884\" stroke-linecap=\"round\" style=\"stroke:rgb(162,174,93);stroke-width:4\"/><line x1=\"406.631\" y1=\"439.884\" x2=\"469.54\" y2=\"321.569\" stroke-linecap=\"round\" style=\"stroke:rgb(162,174,93);stroke-width:4\"/><line x1=\"469.54\" y1=\"321.569\" x2=\"478.517\" y2=\"424.177\" stroke-linecap=\"round\" style=\"stroke:rgb(162,174,93);stroke-width:4\"/><line x1=\"478.517\" y1=\"424.177\" x2=\"613.677\" y2=\"518.817\" stroke-linecap=\"round\" style=\"stroke:rgb(162,174,93);stroke-width:4\"/><line x1=\"613.677\" y1=\"518.817\" x2=\"400\" y2=\"250\" stroke-linecap=\"round\" style=\"stroke:rgb(19,82,101);stroke-width:4\"/><line x1=\"400\" y1=\"250\" x2=\"383.304\" y2=\"385.979\" stroke-linecap=\"round\" style=\"stroke:rgb(19,82,101);stroke-width:4\"/><line x1=\"383.304\" y1=\"385.979\" x2=\"268.959\" y2=\"234.238\" stroke-linecap=\"round\" style=\"stroke:rgb(19,82,101);stroke-width:4\"/><line x1=\"268.959\" y1=\"234.238\" x2=\"263.097\" y2=\"346.085\" stroke-linecap=\"round\" style=\"stroke:rgb(19,82,101);stroke-width:4\"/><line x1=\"263.097\" y1=\"346.085\" x2=\"386.696\" y2=\"230.827\" stroke-linecap=\"round\" style=\"stroke:rgb(19,82,101);stroke-width:4\"/><line x1=\"386.696\" y1=\"230.827\" x2=\"458.282\" y2=\"391.611\" stroke-linecap=\"round\" style=\"stroke:rgb(19,82,101);stroke-width:4\"/><line x1=\"458.282\" y1=\"391.611\" x2=\"277.54\" y2=\"446.869\" stroke-linecap=\"round\" style=\"stroke:rgb(19,82,101);stroke-width:4\"/><line x1=\"277.54\" y1=\"446.869\" x2=\"268.381\" y2=\"621.629\" stroke-linecap=\"round\" style=\"stroke:rgb(19,82,101);stroke-width:4\"/><line x1=\"268.381\" y1=\"621.629\" x2=\"400\" y2=\"250\" stroke-linecap=\"round\" style=\"stroke:rgb(4,103,76);stroke-width:4\"/><line x1=\"400\" y1=\"250\" x2=\"360.289\" y2=\"63.174\" stroke-linecap=\"round\" style=\"stroke:rgb(4,103,76);stroke-width:4\"/><line x1=\"360.289\" y1=\"63.174\" x2=\"347.913\" y2=\"-78.286\" stroke-linecap=\"round\" style=\"stroke:rgb(4,103,76);stroke-width:4\"/><line x1=\"347.913\" y1=\"-78.286\" x2=\"400\" y2=\"250\" stroke-linecap=\"round\" style=\"stroke:rgb(251,150,147);stroke-width:4\"/><line x1=\"400\" y1=\"250\" x2=\"474.563\" y2=\"161.139\" stroke-linecap=\"round\" style=\"stroke:rgb(251,150,147);stroke-width:4\"/><line x1=\"474.563\" y1=\"161.139\" x2=\"286.207\" y2=\"110.669\" stroke-linecap=\"round\" style=\"stroke:rgb(251,150,147);stroke-width:4\"/><line x1=\"286.207\" y1=\"110.669\" x2=\"434.257\" y2=\"3.104\" stroke-linecap=\"round\" style=\"stroke:rgb(251,150,147);stroke-width:4\"/><line x1=\"434.257\" y1=\"3.104\" x2=\"400\" y2=\"250\" stroke-linecap=\"round\" style=\"stroke:rgb(194,191,153);stroke-width:4\"/><line x1=\"400\" y1=\"250\" x2=\"553.181\" y2=\"142.741\" stroke-linecap=\"round\" style=\"stroke:rgb(194,191,153);stroke-width:4\"/><line x1=\"553.181\" y1=\"142.741\" x2=\"711.988\" y2=\"162.24\" stroke-linecap=\"round\" style=\"stroke:rgb(194,191,153);stroke-width:4\"/><line x1=\"711.988\" y1=\"162.24\" x2=\"823.562\" y2=\"152.479\" stroke-linecap=\"round\" style=\"stroke:rgb(194,191,153);stroke-width:4\"/><line x1=\"823.562\" y1=\"152.479\" x2=\"400\" y2=\"250\" stroke-linecap=\"round\" style=\"stroke:rgb(12,20,41);stroke-width:4\"/><line x1=\"400\" y1=\"250\" x2=\"246.375\" y2=\"239.258\" stroke-linecap=\"round\" style=\"stroke:rgb(12,20,41);stroke-width:4\"/><line x1=\"246.375\" y1=\"239.258\" x2=\"69.702\" y2=\"260.951\" stroke-linecap=\"round\" style=\"stroke:rgb(12,20,41);stroke-width:4\"/><line x1=\"69.702\" y1=\"260.951\" x2=\"400\" y2=\"250\" stroke-linecap=\"round\" style=\"stroke:rgb(234,154,235);stroke-width:4\"/><line x1=\"400\" y1=\"250\" x2=\"248.351\" y2=\"317.518\" stroke-linecap=\"round\" style=\"stroke:rgb(234,154,235);stroke-width:4\"/><line x1=\"248.351\" y1=\"317.518\" x2=\"412.181\" y2=\"202.803\" stroke-linecap=\"round\" style=\"stroke:rgb(234,154,235);stroke-width:4\"/><line x1=\"412.181\" y1=\"202.803\" x2=\"381.588\" y2=\"335.317\" stroke-linecap=\"round\" style=\"stroke:rgb(234,154,235);stroke-width:4\"/><line x1=\"381.588\" y1=\"335.317\" x2=\"241.168\" y2=\"466.261\" stroke-linecap=\"round\" style=\"stroke:rgb(234,154,235);stroke-width:4\"/><line x1=\"241.168\" y1=\"466.261\" x2=\"400\" y2=\"250\" stroke-linecap=\"round\" style=\"stroke:rgb(13,119,77);stroke-width:4\"/><line x1=\"400\" y1=\"250\" x2=\"459.782\" y2=\"390.837\" stroke-linecap=\"round\" style=\"stroke:rgb(13,119,77);stroke-width:4\"/><line x1=\"459.782\" y1=\"390.837\" x2=\"574.02\" y2=\"410.98\" stroke-linecap=\"round\" style=\"stroke:rgb(13,119,77);stroke-width:4\"/><line x1=\"574.02\" y1=\"410.98\" x2=\"561.673\" y2=\"234.411\" stroke-linecap=\"round\" style=\"stroke:rgb(13,119,77);stroke-width:4\"/><line x1=\"561.673\" y1=\"234.411\" x2=\"749.109\" y2=\"291.716\" stroke-linecap=\"round\" style=\"stroke:rgb(13,119,77);stroke-width:4\"/><line x1=\"749.109\" y1=\"291.716\" x2=\"691.483\" y2=\"124.359\" stroke-linecap=\"round\" style=\"stroke:rgb(13,119,77);stroke-width:4\"/><line x1=\"691.483\" y1=\"124.359\" x2=\"762.205\" y2=\"-42.252\" stroke-linecap=\"round\" style=\"stroke:rgb(13,119,77);stroke-width:4\"/><line x1=\"762.205\" y1=\"-42.252\" x2=\"400\" y2=\"250\" stroke-linecap=\"round\" style=\"stroke:rgb(230,30,73);stroke-width:4\"/><line x1=\"400\" y1=\"250\" x2=\"535.369\" y2=\"198.037\" stroke-linecap=\"round\" style=\"stroke:rgb(230,30,73);stroke-width:4\"/><line x1=\"535.369\" y1=\"198.037\" x2=\"672.797\" y2=\"224.75\" stroke-linecap=\"round\" style=\"stroke:rgb(230,30,73);stroke-width:4\"/><line x1=\"672.797\" y1=\"224.75\" x2=\"712.66\" y2=\"102.064\" stroke-linecap=\"round\" style=\"stroke:rgb(230,30,73);stroke-width:4\"/><line x1=\"712.66\" y1=\"102.064\" x2=\"826.855\" y2=\"155.314\" stroke-linecap=\"round\" style=\"stroke:rgb(230,30,73);stroke-width:4\"/><line x1=\"826.855\" y1=\"155.314\" x2=\"400\" y2=\"250\" stroke-linecap=\"round\" style=\"stroke:rgb(70,213,231);stroke-width:4\"/><line x1=\"400\" y1=\"250\" x2=\"400.0\" y2=\"441.0\" stroke-linecap=\"round\" style=\"stroke:rgb(70,213,231);stroke-width:4\"/><line x1=\"400.0\" y1=\"441.0\" x2=\"490.621\" y2=\"511.801\" stroke-linecap=\"round\" style=\"stroke:rgb(70,213,231);stroke-width:4\"/><line x1=\"490.621\" y1=\"511.801\" x2=\"400\" y2=\"250\" stroke-linecap=\"round\" style=\"stroke:rgb(127,41,201);stroke-width:4\"/><line x1=\"400\" y1=\"250\" x2=\"512.666\" y2=\"394.206\" stroke-linecap=\"round\" style=\"stroke:rgb(127,41,201);stroke-width:4\"/><line x1=\"512.666\" y1=\"394.206\" x2=\"596.812\" y2=\"310.06\" stroke-linecap=\"round\" style=\"stroke:rgb(127,41,201);stroke-width:4\"/><line x1=\"596.812\" y1=\"310.06\" x2=\"583.041\" y2=\"152.661\" stroke-linecap=\"round\" style=\"stroke:rgb(127,41,201);stroke-width:4\"/><line x1=\"583.041\" y1=\"152.661\" x2=\"647.685\" y2=\"69.92\" stroke-linecap=\"round\" style=\"stroke:rgb(127,41,201);stroke-width:4\"/><line x1=\"647.685\" y1=\"69.92\" x2=\"634.152\" y2=\"-123.607\" stroke-linecap=\"round\" style=\"stroke:rgb(127,41,201);stroke-width:4\"/><line x1=\"634.152\" y1=\"-123.607\" x2=\"400\" y2=\"250\" stroke-linecap=\"round\" style=\"stroke:rgb(242,211,30);stroke-width:4\"/><line x1=\"400\" y1=\"250\" x2=\"305.955\" y2=\"155.955\" stroke-linecap=\"round\" style=\"stroke:rgb(242,211,30);stroke-width:4\"/><line x1=\"305.955\" y1=\"155.955\" x2=\"149.982\" y2=\"105.276\" stroke-linecap=\"round\" style=\"stroke:rgb(242,211,30);stroke-width:4\"/><line x1=\"149.982\" y1=\"105.276\" x2=\"75.736\" y2=\"179.522\" stroke-linecap=\"round\" style=\"stroke:rgb(242,211,30);stroke-width:4\"/><line x1=\"75.736\" y1=\"179.522\" x2=\"400\" y2=\"250\" stroke-linecap=\"round\" style=\"stroke:rgb(125,96,80);stroke-width:4\"/><line x1=\"400\" y1=\"250\" x2=\"497.27\" y2=\"340.706\" stroke-linecap=\"round\" style=\"stroke:rgb(125,96,80);stroke-width:4\"/><line x1=\"497.27\" y1=\"340.706\" x2=\"409.513\" y2=\"466.036\" stroke-linecap=\"round\" style=\"stroke:rgb(125,96,80);stroke-width:4\"/><line x1=\"409.513\" y1=\"466.036\" x2=\"400\" y2=\"250\" stroke-linecap=\"round\" style=\"stroke:rgb(6,29,141);stroke-width:4\"/><line x1=\"400\" y1=\"250\" x2=\"413.858\" y2=\"91.605\" stroke-linecap=\"round\" style=\"stroke:rgb(6,29,141);stroke-width:4\"/><line x1=\"413.858\" y1=\"91.605\" x2=\"376.65\" y2=\"-99.812\" stroke-linecap=\"round\" style=\"stroke:rgb(6,29,141);stroke-width:4\"/><line x1=\"376.65\" y1=\"-99.812\" x2=\"400\" y2=\"250\" stroke-linecap=\"round\" style=\"stroke:rgb(206,109,73);stroke-width:4\"/><line x1=\"400\" y1=\"250\" x2=\"445.154\" y2=\"367.631\" stroke-linecap=\"round\" style=\"stroke:rgb(206,109,73);stroke-width:4\"/><line x1=\"445.154\" y1=\"367.631\" x2=\"316.461\" y2=\"496.324\" stroke-linecap=\"round\" style=\"stroke:rgb(206,109,73);stroke-width:4\"/><line x1=\"316.461\" y1=\"496.324\" x2=\"400\" y2=\"250\" stroke-linecap=\"round\" style=\"stroke:rgb(71,205,180);stroke-width:4\"/><line x1=\"400\" y1=\"250\" x2=\"532.197\" y2=\"207.047\" stroke-linecap=\"round\" style=\"stroke:rgb(71,205,180);stroke-width:4\"/><line x1=\"532.197\" y1=\"207.047\" x2=\"534.152\" y2=\"95.064\" stroke-linecap=\"round\" style=\"stroke:rgb(71,205,180);stroke-width:4\"/><line x1=\"534.152\" y1=\"95.064\" x2=\"452.269\" y2=\"199.869\" stroke-linecap=\"round\" style=\"stroke:rgb(71,205,180);stroke-width:4\"/><line x1=\"452.269\" y1=\"199.869\" x2=\"551.888\" y2=\"208.585\" stroke-linecap=\"round\" style=\"stroke:rgb(71,205,180);stroke-width:4\"/><line x1=\"551.888\" y1=\"208.585\" x2=\"429.834\" y2=\"294.048\" stroke-linecap=\"round\" style=\"stroke:rgb(71,205,180);stroke-width:4\"/><line x1=\"429.834\" y1=\"294.048\" x2=\"245.538\" y2=\"310.172\" stroke-linecap=\"round\" style=\"stroke:rgb(71,205,180);stroke-width:4\"/><line x1=\"245.538\" y1=\"310.172\" x2=\"267.765\" y2=\"184.117\" stroke-linecap=\"round\" style=\"stroke:rgb(71,205,180);stroke-width:4\"/><line x1=\"267.765\" y1=\"184.117\" x2=\"270.802\" y2=\"10.144\" stroke-linecap=\"round\" style=\"stroke:rgb(71,205,180);stroke-width:4\"/><line x1=\"270.802\" y1=\"10.144\" x2=\"400\" y2=\"250\" stroke-linecap=\"round\" style=\"stroke:rgb(15,7,90);stroke-width:4\"/><line x1=\"400\" y1=\"250\" x2=\"230.78\" y2=\"285.969\" stroke-linecap=\"round\" style=\"stroke:rgb(15,7,90);stroke-width:4\"/><line x1=\"230.78\" y1=\"285.969\" x2=\"267.553\" y2=\"399.145\" stroke-linecap=\"round\" style=\"stroke:rgb(15,7,90);stroke-width:4\"/><line x1=\"267.553\" y1=\"399.145\" x2=\"281.037\" y2=\"527.438\" stroke-linecap=\"round\" style=\"stroke:rgb(15,7,90);stroke-width:4\"/><line x1=\"281.037\" y1=\"527.438\" x2=\"400\" y2=\"250\" stroke-linecap=\"round\" style=\"stroke:rgb(161,70,100);stroke-width:4\"/><line x1=\"400\" y1=\"250\" x2=\"287.783\" y2=\"141.633\" stroke-linecap=\"round\" style=\"stroke:rgb(161,70,100);stroke-width:4\"/><line x1=\"287.783\" y1=\"141.633\" x2=\"297.727\" y2=\"331.373\" stroke-linecap=\"round\" style=\"stroke:rgb(161,70,100);stroke-width:4\"/><line x1=\"297.727\" y1=\"331.373\" x2=\"190.873\" y2=\"264.603\" stroke-linecap=\"round\" style=\"stroke:rgb(161,70,100);stroke-width:4\"/><line x1=\"190.873\" y1=\"264.603\" x2=\"177.833\" y2=\"370.805\" stroke-linecap=\"round\" style=\"stroke:rgb(161,70,100);stroke-width:4\"/><line x1=\"177.833\" y1=\"370.805\" x2=\"95.427\" y2=\"233.658\" stroke-linecap=\"round\" style=\"stroke:rgb(161,70,100);stroke-width:4\"/><line x1=\"95.427\" y1=\"233.658\" x2=\"-54.133\" y2=\"150.756\" stroke-linecap=\"round\" style=\"stroke:rgb(161,70,100);stroke-width:4\"/><line x1=\"-54.133\" y1=\"150.756\" x2=\"400\" y2=\"250\" stroke-linecap=\"round\" style=\"stroke:rgb(13,35,97);stroke-width:4\"/><line x1=\"400\" y1=\"250\" x2=\"444.514\" y2=\"428.534\" stroke-linecap=\"round\" style=\"stroke:rgb(13,35,97);stroke-width:4\"/><line x1=\"444.514\" y1=\"428.534\" x2=\"569.585\" y2=\"359.206\" stroke-linecap=\"round\" style=\"stroke:rgb(13,35,97);stroke-width:4\"/><line x1=\"569.585\" y1=\"359.206\" x2=\"520.37\" y2=\"469.745\" stroke-linecap=\"round\" style=\"stroke:rgb(13,35,97);stroke-width:4\"/><line x1=\"520.37\" y1=\"469.745\" x2=\"400\" y2=\"250\" stroke-linecap=\"round\" style=\"stroke:rgb(238,18,227);stroke-width:4\"/><line x1=\"400\" y1=\"250\" x2=\"349.381\" y2=\"389.075\" stroke-linecap=\"round\" style=\"stroke:rgb(238,18,227);stroke-width:4\"/><line x1=\"349.381\" y1=\"389.075\" x2=\"219.331\" y2=\"271.977\" stroke-linecap=\"round\" style=\"stroke:rgb(238,18,227);stroke-width:4\"/><line x1=\"219.331\" y1=\"271.977\" x2=\"344.842\" y2=\"193.549\" stroke-linecap=\"round\" style=\"stroke:rgb(238,18,227);stroke-width:4\"/><line x1=\"344.842\" y1=\"193.549\" x2=\"325.393\" y2=\"303.847\" stroke-linecap=\"round\" style=\"stroke:rgb(238,18,227);stroke-width:4\"/><line x1=\"325.393\" y1=\"303.847\" x2=\"184.121\" y2=\"378.962\" stroke-linecap=\"round\" style=\"stroke:rgb(238,18,227);stroke-width:4\"/><line x1=\"184.121\" y1=\"378.962\" x2=\"314.686\" y2=\"265.464\" stroke-linecap=\"round\" style=\"stroke:rgb(238,18,227);stroke-width:4\"/><line x1=\"314.686\" y1=\"265.464\" x2=\"338.308\" y2=\"116.323\" stroke-linecap=\"round\" style=\"stroke:rgb(238,18,227);stroke-width:4\"/><line x1=\"338.308\" y1=\"116.323\" x2=\"366.153\" y2=\"292.132\" stroke-linecap=\"round\" style=\"stroke:rgb(238,18,227);stroke-width:4\"/><line x1=\"366.153\" y1=\"292.132\" x2=\"454.321\" y2=\"170.779\" stroke-linecap=\"round\" style=\"stroke:rgb(238,18,227);stroke-width:4\"/><line x1=\"454.321\" y1=\"170.779\" x2=\"604.717\" y2=\"208.277\" stroke-linecap=\"round\" style=\"stroke:rgb(238,18,227);stroke-width:4\"/><line x1=\"604.717\" y1=\"208.277\" x2=\"594.459\" y2=\"404.008\" stroke-linecap=\"round\" style=\"stroke:rgb(238,18,227);stroke-width:4\"/><line x1=\"594.459\" y1=\"404.008\" x2=\"587.758\" y2=\"212.125\" stroke-linecap=\"round\" style=\"stroke:rgb(238,18,227);stroke-width:4\"/><line x1=\"587.758\" y1=\"212.125\" x2=\"496.898\" y2=\"157.531\" stroke-linecap=\"round\" style=\"stroke:rgb(238,18,227);stroke-width:4\"/><line x1=\"496.898\" y1=\"157.531\" x2=\"560.898\" y2=\"46.68\" stroke-linecap=\"round\" style=\"stroke:rgb(238,18,227);stroke-width:4\"/><line x1=\"560.898\" y1=\"46.68\" x2=\"400\" y2=\"250\" stroke-linecap=\"round\" style=\"stroke:rgb(179,5,59);stroke-width:4\"/><line x1=\"400\" y1=\"250\" x2=\"297.145\" y2=\"220.507\" stroke-linecap=\"round\" style=\"stroke:rgb(179,5,59);stroke-width:4\"/><line x1=\"297.145\" y1=\"220.507\" x2=\"457.151\" y2=\"195.165\" stroke-linecap=\"round\" style=\"stroke:rgb(179,5,59);stroke-width:4\"/><line x1=\"457.151\" y1=\"195.165\" x2=\"323.853\" y2=\"230.882\" stroke-linecap=\"round\" style=\"stroke:rgb(179,5,59);stroke-width:4\"/><line x1=\"323.853\" y1=\"230.882\" x2=\"280.854\" y2=\"380.839\" stroke-linecap=\"round\" style=\"stroke:rgb(179,5,59);stroke-width:4\"/><line x1=\"280.854\" y1=\"380.839\" x2=\"147.182\" y2=\"524.184\" stroke-linecap=\"round\" style=\"stroke:rgb(179,5,59);stroke-width:4\"/><line x1=\"147.182\" y1=\"524.184\" x2=\"400\" y2=\"250\" stroke-linecap=\"round\" style=\"stroke:rgb(39,36,92);stroke-width:4\"/><line x1=\"400\" y1=\"250\" x2=\"404.921\" y2=\"390.914\" stroke-linecap=\"round\" style=\"stroke:rgb(39,36,92);stroke-width:4\"/><line x1=\"404.921\" y1=\"390.914\" x2=\"581.086\" y2=\"462.089\" stroke-linecap=\"round\" style=\"stroke:rgb(39,36,92);stroke-width:4\"/><line x1=\"581.086\" y1=\"462.089\" x2=\"400\" y2=\"250\" stroke-linecap=\"round\" style=\"stroke:rgb(154,45,59);stroke-width:4\"/><line x1=\"400\" y1=\"250\" x2=\"291.053\" y2=\"326.286\" stroke-linecap=\"round\" style=\"stroke:rgb(154,45,59);stroke-width:4\"/><line x1=\"291.053\" y1=\"326.286\" x2=\"440.874\" y2=\"392.991\" stroke-linecap=\"round\" style=\"stroke:rgb(154,45,59);stroke-width:4\"/><line x1=\"440.874\" y1=\"392.991\" x2=\"251.733\" y2=\"366.409\" stroke-linecap=\"round\" style=\"stroke:rgb(154,45,59);stroke-width:4\"/><line x1=\"251.733\" y1=\"366.409\" x2=\"366.048\" y2=\"432.409\" stroke-linecap=\"round\" style=\"stroke:rgb(154,45,59);stroke-width:4\"/><line x1=\"366.048\" y1=\"432.409\" x2=\"312.719\" y2=\"528.617\" stroke-linecap=\"round\" style=\"stroke:rgb(154,45,59);stroke-width:4\"/><line x1=\"312.719\" y1=\"528.617\" x2=\"400\" y2=\"250\" stroke-linecap=\"round\" style=\"stroke:rgb(20,17,79);stroke-width:4\"/><line x1=\"400\" y1=\"250\" x2=\"338.03\" y2=\"133.451\" stroke-linecap=\"round\" style=\"stroke:rgb(20,17,79);stroke-width:4\"/><line x1=\"338.03\" y1=\"133.451\" x2=\"230.293\" y2=\"125.917\" stroke-linecap=\"round\" style=\"stroke:rgb(20,17,79);stroke-width:4\"/>\n",
              "        <g visibility=visible transform=\"rotate(274,230.293,125.917) translate(212.293, 107.917)\">\n",
              "<path style=\" stroke:none;fill-rule:evenodd;fill:rgb(20,17,79);fill-opacity:1;\" d=\"M 18.214844 0.632812 C 16.109375 1.800781 15.011719 4.074219 15.074219 7.132812 L 15.085938 7.652344 L 14.785156 7.496094 C 13.476562 6.824219 11.957031 6.671875 10.40625 7.066406 C 8.46875 7.550781 6.515625 9.15625 4.394531 11.992188 C 3.0625 13.777344 2.679688 14.636719 3.042969 15.027344 L 3.15625 15.152344 L 3.519531 15.152344 C 4.238281 15.152344 4.828125 14.886719 8.1875 13.039062 C 9.386719 12.378906 10.371094 11.839844 10.378906 11.839844 C 10.386719 11.839844 10.355469 11.929688 10.304688 12.035156 C 9.832031 13.09375 9.257812 14.820312 8.96875 16.078125 C 7.914062 20.652344 8.617188 24.53125 11.070312 27.660156 C 11.351562 28.015625 11.363281 27.914062 10.972656 28.382812 C 8.925781 30.84375 7.945312 33.28125 8.238281 35.1875 C 8.289062 35.527344 8.28125 35.523438 8.917969 35.523438 C 10.941406 35.523438 13.074219 34.207031 15.136719 31.6875 C 15.359375 31.417969 15.328125 31.425781 15.5625 31.574219 C 16.292969 32.042969 18.023438 32.964844 18.175781 32.964844 C 18.335938 32.964844 19.941406 32.210938 20.828125 31.71875 C 20.996094 31.625 21.136719 31.554688 21.136719 31.558594 C 21.203125 31.664062 21.898438 32.414062 22.222656 32.730469 C 23.835938 34.300781 25.5625 35.132812 27.582031 35.300781 C 27.90625 35.328125 27.9375 35.308594 28.007812 34.984375 C 28.382812 33.242188 27.625 30.925781 25.863281 28.425781 L 25.542969 27.96875 L 25.699219 27.785156 C 28.945312 23.960938 29.132812 18.699219 26.257812 11.96875 L 26.207031 11.84375 L 27.945312 12.703125 C 31.53125 14.476562 32.316406 14.800781 33.03125 14.800781 C 33.976562 14.800781 33.78125 13.9375 32.472656 12.292969 C 28.519531 7.355469 25.394531 5.925781 21.921875 7.472656 L 21.558594 7.636719 L 21.578125 7.542969 C 21.699219 6.992188 21.761719 5.742188 21.699219 5.164062 C 21.496094 3.296875 20.664062 1.964844 19.003906 0.855469 C 18.480469 0.503906 18.457031 0.5 18.214844 0.632812\"/>\n",
              "</g>\n",
              "      </svg>\n",
              "    "
            ]
          },
          "metadata": {}
        },
        {
          "output_type": "stream",
          "name": "stdout",
          "text": [
            "(800, 500)\n",
            "546.799 242.307\n",
            "639.784 314.955\n",
            "831.667 321.656\n",
            "429.316 112.081\n",
            "589.597 11.926\n",
            "357.001 100.043\n",
            "295.191 -26.687\n",
            "421.083 421.71\n",
            "525.403 393.758\n",
            "602.32 558.706\n",
            "406.631 439.884\n",
            "469.54 321.569\n",
            "478.517 424.177\n",
            "613.677 518.817\n",
            "383.304 385.979\n",
            "268.959 234.238\n",
            "263.097 346.085\n",
            "386.696 230.827\n",
            "458.282 391.611\n",
            "277.54 446.869\n",
            "268.381 621.629\n",
            "360.289 63.174\n",
            "347.913 -78.286\n",
            "474.563 161.139\n",
            "286.207 110.669\n",
            "434.257 3.104\n",
            "553.181 142.741\n",
            "711.988 162.24\n",
            "823.562 152.479\n",
            "246.375 239.258\n",
            "69.702 260.951\n",
            "248.351 317.518\n",
            "412.181 202.803\n",
            "381.588 335.317\n",
            "241.168 466.261\n",
            "459.782 390.837\n",
            "574.02 410.98\n",
            "561.673 234.411\n",
            "749.109 291.716\n",
            "691.483 124.359\n",
            "762.205 -42.252\n",
            "535.369 198.037\n",
            "672.797 224.75\n",
            "712.66 102.064\n",
            "826.855 155.314\n",
            "400.0 441.0\n",
            "490.621 511.801\n",
            "512.666 394.206\n",
            "596.812 310.06\n",
            "583.041 152.661\n",
            "647.685 69.92\n",
            "634.152 -123.607\n",
            "305.955 155.955\n",
            "149.982 105.276\n",
            "75.736 179.522\n",
            "497.27 340.706\n",
            "409.513 466.036\n",
            "413.858 91.605\n",
            "376.65 -99.812\n",
            "445.154 367.631\n",
            "316.461 496.324\n",
            "532.197 207.047\n",
            "534.152 95.064\n",
            "452.269 199.869\n",
            "551.888 208.585\n",
            "429.834 294.048\n",
            "245.538 310.172\n",
            "267.765 184.117\n",
            "270.802 10.144\n",
            "230.78 285.969\n",
            "267.553 399.145\n",
            "281.037 527.438\n",
            "287.783 141.633\n",
            "297.727 331.373\n",
            "190.873 264.603\n",
            "177.833 370.805\n",
            "95.427 233.658\n",
            "-54.133 150.756\n",
            "444.514 428.534\n",
            "569.585 359.206\n",
            "520.37 469.745\n",
            "349.381 389.075\n",
            "219.331 271.977\n",
            "344.842 193.549\n",
            "325.393 303.847\n",
            "184.121 378.962\n",
            "314.686 265.464\n",
            "338.308 116.323\n",
            "366.153 292.132\n",
            "454.321 170.779\n",
            "604.717 208.277\n",
            "594.459 404.008\n",
            "587.758 212.125\n",
            "496.898 157.531\n",
            "560.898 46.68\n",
            "297.145 220.507\n",
            "457.151 195.165\n",
            "323.853 230.882\n",
            "280.854 380.839\n",
            "147.182 524.184\n",
            "404.921 390.914\n",
            "581.086 462.089\n",
            "291.053 326.286\n",
            "440.874 392.991\n",
            "251.733 366.409\n",
            "366.048 432.409\n",
            "312.719 528.617\n",
            "338.03 133.451\n",
            "230.293 125.917\n"
          ]
        }
      ]
    }
  ]
}