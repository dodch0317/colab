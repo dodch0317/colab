{
  "nbformat": 4,
  "nbformat_minor": 0,
  "metadata": {
    "colab": {
      "provenance": [],
      "authorship_tag": "ABX9TyMoTPKEEMoRJhZwHoo6oN38",
      "include_colab_link": true
    },
    "kernelspec": {
      "name": "python3",
      "display_name": "Python 3"
    },
    "language_info": {
      "name": "python"
    }
  },
  "cells": [
    {
      "cell_type": "markdown",
      "metadata": {
        "id": "view-in-github",
        "colab_type": "text"
      },
      "source": [
        "<a href=\"https://colab.research.google.com/github/dodch0317/colab/blob/main/lesson_7.ipynb\" target=\"_parent\"><img src=\"https://colab.research.google.com/assets/colab-badge.svg\" alt=\"Open In Colab\"/></a>"
      ]
    },
    {
      "cell_type": "code",
      "execution_count": 5,
      "metadata": {
        "colab": {
          "base_uri": "https://localhost:8080/"
        },
        "id": "2SnGpm1GEUGN",
        "outputId": "cfac617d-61d9-460c-c8a8-717667e1e3a3"
      },
      "outputs": [
        {
          "output_type": "stream",
          "name": "stdout",
          "text": [
            "숫자: 123\n",
            "숫자: 456\n",
            "숫자: 789\n",
            "숫자: 101112\n",
            "합계 ==>  102480\n"
          ]
        }
      ],
      "source": [
        "numList = []\n",
        "for i in range(0,4) :\n",
        "  numList.append(0)\n",
        "\n",
        "hap = 0\n",
        "\n",
        "for i in range(0,4) : \n",
        "    numList[i] = int(input(\"숫자: \"))\n",
        "\n",
        "hap = numList[0] + numList[1] + numList[2] + numList[3]\n",
        "\n",
        "print(\"합계 ==> \", hap)"
      ]
    },
    {
      "cell_type": "code",
      "source": [
        "import random\n",
        "\n",
        "wiseSay = [\"삶이 있는 한 희망은 있다.\", \n",
        "           \"산다는것 그것은 치열한 전투이다.\", \n",
        "           \"하루에 3시간을 걸으면 7년 후에 지구를 한바퀴 돌 수 있다.\",\n",
        "           \"언제나 현재에 집중할 수 있다면 행복할 것이다.\",\n",
        "           \"진정으로 웃으려면 고통을 참아야하며, 나아가 고통을 즐길 줄 알아야 해.\",\n",
        "           \"직업에서 행복을 찾아라. 아니면 행복이 무엇인지 절대 모를 것이다.\",\n",
        "           \"신은 용기 있는 자를 결코 버리지 않는다.\"]\n",
        "today = random.randint(0, len(wiseSay)-1)\n",
        "print(\"오늘의 명언 ==>\", wiseSay[today])"
      ],
      "metadata": {
        "colab": {
          "base_uri": "https://localhost:8080/"
        },
        "id": "ALSTjawrJvb_",
        "outputId": "62db9165-14b1-4af9-bcd2-9ae6269bc744"
      },
      "execution_count": 8,
      "outputs": [
        {
          "output_type": "stream",
          "name": "stdout",
          "text": [
            "오늘의 명언 ==> 신은 용기 있는 자를 결코 버리지 않는다.\n"
          ]
        }
      ]
    },
    {
      "cell_type": "code",
      "source": [
        "boardList=[[1, 2, 3, 4],\n",
        "          [5, 6, 7, 8],\n",
        "          [9, 10, 11, 12]]\n",
        "\n",
        "for i in range(0, 3):\n",
        "  for k in range(0, 4):\n",
        "    print(\"\", boardList[i][k], end='')\n",
        "  print(\"\")"
      ],
      "metadata": {
        "colab": {
          "base_uri": "https://localhost:8080/"
        },
        "id": "lVwTr_hxiR_9",
        "outputId": "c7c95ff0-508c-4f4a-df7d-a4cc66fbf8ae"
      },
      "execution_count": 14,
      "outputs": [
        {
          "output_type": "stream",
          "name": "stdout",
          "text": [
            " 1 2 3 4\n",
            " 5 6 7 8\n",
            " 9 10 11 12\n"
          ]
        }
      ]
    },
    {
      "cell_type": "code",
      "source": [
        "from google.colab import output\n",
        "import random\n",
        "usred = [1,2,3,4,5,6,7,8,9]\n",
        "boardList = [ [1,2,3],\n",
        "              [4,5,6],\n",
        "              [7,8,9]]\n",
        "def display_board() : \n",
        "  print(\" \", boardList[0][0],\"|\", boardList[0][1], \"|\", boardList[0][2])\n",
        "  print(\" ---+---+---\")\n",
        "  print(\" \", boardList[1][0],\"|\", boardList[1][1], \"|\", boardList[1][2])\n",
        "  print(\" ---+---+---\")\n",
        "  print(\" \", boardList[2][0],\"|\", boardList[2][1], \"|\", boardList[2][2])\n",
        "\n",
        "def user_select() :\n",
        "  user = int(input(\"위치를 선택 : \"))\n",
        "  usred.remove(user)\n",
        "  for x in range(3) :\n",
        "    for y in range(3) :\n",
        "      if user == boardList[x][y]  : boardList[x][y] = \"o\"\n",
        "\n",
        "def com_select() :\n",
        "  com = random.choice(usred)\n",
        "  usred.remove(com)\n",
        "  for x in range(3) :\n",
        "    for y in range(3) :\n",
        "      if com == boardList[x][y]  : boardList[x][y] = \"x\"\n",
        "\n",
        "def test(player) :\n",
        "  if boardList[0][0] == boardList[0][1] == boardList[0][2] == player or \\\n",
        "   boardList[1][0] == boardList[1][1] == boardList[1][2] == player or \\\n",
        "   boardList[2][0] == boardList[2][1] == boardList[2][2] == player or \\\n",
        "   boardList[0][0] == boardList[1][1] == boardList[2][2] == player or \\\n",
        "   boardList[0][0] == boardList[1][0] == boardList[2][0] == player or \\\n",
        "   boardList[0][1] == boardList[1][1] == boardList[2][1] == player or \\\n",
        "   boardList[0][2] == boardList[1][2] == boardList[2][2] == player or \\\n",
        "   boardList[0][2] == boardList[1][1] == boardList[2][1] == player :\n",
        "   return player\n",
        "\n",
        "while True :\n",
        "  display_board()\n",
        "  user_select()\n",
        "  if test(\"o\") == \"o\" :\n",
        "    display_board() \n",
        "    print(\"유저 승\")\n",
        "    break \n",
        "      elif test(userd == \"o\")\n",
        "    print(\"비겼다.\")\n",
        "  output.clear()\n",
        "  com_select()\n",
        "  output.clear()\n",
        "  if test(\"x\") == \"x\" :\n",
        "    display_board()  \n",
        "    print(\"컴퓨터 승\")\n",
        "    break"
      ],
      "metadata": {
        "colab": {
          "base_uri": "https://localhost:8080/"
        },
        "id": "l_OKM0sYpV3q",
        "outputId": "8f7caa37-db22-49c6-c62f-0c61ed227252"
      },
      "execution_count": 25,
      "outputs": [
        {
          "output_type": "stream",
          "name": "stdout",
          "text": [
            "  1 | 2 | x\n",
            " ---+---+---\n",
            "  o | 5 | o\n",
            " ---+---+---\n",
            "  o | x | x\n",
            "위치를 선택 : 1\n",
            "  o | 2 | x\n",
            " ---+---+---\n",
            "  o | 5 | o\n",
            " ---+---+---\n",
            "  o | x | x\n",
            "유저 승\n"
          ]
        }
      ]
    }
  ]
}