{
  "nbformat": 4,
  "nbformat_minor": 0,
  "metadata": {
    "colab": {
      "provenance": [],
      "authorship_tag": "ABX9TyOdF2wtqjBGBR9H2fdVv8FD",
      "include_colab_link": true
    },
    "kernelspec": {
      "name": "python3",
      "display_name": "Python 3"
    },
    "language_info": {
      "name": "python"
    }
  },
  "cells": [
    {
      "cell_type": "markdown",
      "metadata": {
        "id": "view-in-github",
        "colab_type": "text"
      },
      "source": [
        "<a href=\"https://colab.research.google.com/github/dodch0317/colab/blob/main/Untitled0.ipynb\" target=\"_parent\"><img src=\"https://colab.research.google.com/assets/colab-badge.svg\" alt=\"Open In Colab\"/></a>"
      ]
    },
    {
      "cell_type": "code",
      "execution_count": 2,
      "metadata": {
        "colab": {
          "base_uri": "https://localhost:8080/"
        },
        "id": "B2AtPcCUH1cI",
        "outputId": "c5647c5e-75f5-4fa4-a160-afde7f88c25a"
      },
      "outputs": [
        {
          "output_type": "stream",
          "name": "stdout",
          "text": [
            "난생 처음 파이썬은 재미있습니다.\n",
            "난생 처음 파이썬은 재미있습니다.\n",
            "난생 처음 파이썬은 재미있습니다.\n"
          ]
        }
      ],
      "source": [
        "for i in range(3) :\n",
        "  print(\"난생 처음 파이썬은 재미있습니다.\")"
      ]
    },
    {
      "cell_type": "code",
      "source": [
        "fact = 1\n",
        "friends_num = 5\n",
        "\n",
        "for i in(1, friends_num + 1, 1):\n",
        "  fact = fact * i\n",
        "\n",
        "print(\"A, B, C, D, E 학생들을 순서대로 세우는 경우의 수\", fact)"
      ],
      "metadata": {
        "id": "7Gw481JoNEgl"
      },
      "execution_count": null,
      "outputs": []
    },
    {
      "cell_type": "code",
      "source": [
        "hap = 0\n",
        "for i in range(1, 11, 1):\n",
        "  hap = hap + i\n",
        "\n",
        "print(\"1에서 10까지의 합: \", hap)"
      ],
      "metadata": {
        "colab": {
          "base_uri": "https://localhost:8080/"
        },
        "id": "p6nOxIGbO7VV",
        "outputId": "685d77e4-21b5-4e08-b6f0-1e868bd0bea0"
      },
      "execution_count": 8,
      "outputs": [
        {
          "output_type": "stream",
          "name": "stdout",
          "text": [
            "1에서 10까지의 합:  55\n"
          ]
        }
      ]
    },
    {
      "cell_type": "code",
      "source": [
        "i, hap = 0, 0\n",
        "\n",
        "for i in range(1001, 2001, 2):\n",
        "  hap += i\n",
        "\n",
        "print(\"1000에서 2000까지의 홀수의 합: \", hap)"
      ],
      "metadata": {
        "colab": {
          "base_uri": "https://localhost:8080/"
        },
        "id": "sj43Olm1Pwv8",
        "outputId": "675bca4f-b8b8-4a19-a460-6d6615103487"
      },
      "execution_count": 10,
      "outputs": [
        {
          "output_type": "stream",
          "name": "stdout",
          "text": [
            "1000에서 2000까지의 홀수의 합:  750000\n"
          ]
        }
      ]
    },
    {
      "cell_type": "code",
      "source": [
        "for i in range(3):\n",
        "  for k in range(2):\n",
        "    print(\"난생 처음은 쉽습니다.(i값:\",i,\",k값:\", k,\")\")"
      ],
      "metadata": {
        "colab": {
          "base_uri": "https://localhost:8080/"
        },
        "id": "3yW4caWSQzMk",
        "outputId": "04fb3e53-f93a-4b1d-ed93-215aaac82dce"
      },
      "execution_count": 18,
      "outputs": [
        {
          "output_type": "stream",
          "name": "stdout",
          "text": [
            "난생 처음은 쉽습니다.(i값: 0 ,k값: 0 )\n",
            "난생 처음은 쉽습니다.(i값: 0 ,k값: 1 )\n",
            "난생 처음은 쉽습니다.(i값: 1 ,k값: 0 )\n",
            "난생 처음은 쉽습니다.(i값: 1 ,k값: 1 )\n",
            "난생 처음은 쉽습니다.(i값: 2 ,k값: 0 )\n",
            "난생 처음은 쉽습니다.(i값: 2 ,k값: 1 )\n"
          ]
        }
      ]
    },
    {
      "cell_type": "code",
      "source": [
        "i = 0\n",
        "j = 0\n",
        "\n",
        "for i in range(2, 10) :\n",
        "  for j in range(1, 10) :\n",
        "    print(i, \"X\", j, \"=\", i*j)\n",
        "  print(\"\")"
      ],
      "metadata": {
        "id": "lu7S8VdbUOgA"
      },
      "execution_count": null,
      "outputs": []
    },
    {
      "cell_type": "code",
      "source": [
        "i = 0\n",
        "while(i < 3):\n",
        "  print(i, \" : 난생 처음 파이썬은 재미있습니다.\")\n",
        "  i = i + 1"
      ],
      "metadata": {
        "colab": {
          "base_uri": "https://localhost:8080/"
        },
        "id": "Jvj8bBsEUdrq",
        "outputId": "2dcccbe0-7cfd-476b-a18e-a598c9a5f711"
      },
      "execution_count": 29,
      "outputs": [
        {
          "output_type": "stream",
          "name": "stdout",
          "text": [
            "0  : 난생 처음 파이썬은 재미있습니다.\n",
            "1  : 난생 처음 파이썬은 재미있습니다.\n",
            "2  : 난생 처음 파이썬은 재미있습니다.\n"
          ]
        }
      ]
    },
    {
      "cell_type": "code",
      "source": [
        "from ast import Break\n",
        "hao = 0\n",
        "num1, num2 = 0,0\n",
        "\n",
        "while True:\n",
        "  num1 = int(input(\"숫자1 ==> \"))\n",
        "  if num1 == \"0\" : break\n",
        "  num2 = int(input(\"숫자2 ==> \"))\n",
        "\n",
        "  hap = num1 + num2\n",
        "  print(num1, \"+\", num2, \"=\", hap)"
      ],
      "metadata": {
        "id": "c2MyxHz0XYci"
      },
      "execution_count": null,
      "outputs": []
    },
    {
      "cell_type": "code",
      "source": [
        "import random\n",
        "\n",
        "count = 0\n",
        "dice1, dice2, dice3 = 0, 0, 0\n",
        "dice1 = random.randint(1,6)\n",
        "dice2 = random.randint(1,6)\n",
        "dice3 = random.randint(1,6)\n",
        "\n",
        "if(dice1 == dice2 == dice3) :\n",
        "  break\n",
        "\n",
        "print(\"3개의 주사위는 모두\", dice1, \"입니다.\")\n",
        "print(\"같은 숫자가 나오기까지\", count1, \"번 던졌습니다.\")"
      ],
      "metadata": {
        "id": "PptwWhp0aWfy"
      },
      "execution_count": null,
      "outputs": []
    },
    {
      "cell_type": "code",
      "source": [
        "import random\n",
        "\n",
        "computer, user = 0,0\n",
        "\n",
        "for i in range(1,11):\n",
        "  computer = random.randint(1,5)\n",
        "  print(\"게임\",i, \"회\", end='')\n",
        "  user = int(input(\"컴퓨터가 생각한 숫자는? \"))\n",
        "\n",
        "  if computer == user :\n",
        "    print(\"맞혔네요 축하합니다.\")\n",
        "    break\n",
        "  else:\n",
        "    print(\"아까워요.\",computer,\"였는데요, 다시 해 보세요.\")\n",
        "    continue\n",
        "  print(\"게임을 마칩니다.\")"
      ],
      "metadata": {
        "colab": {
          "base_uri": "https://localhost:8080/"
        },
        "id": "p4xENPEZb_kB",
        "outputId": "d85b3fe3-bdac-4017-e405-ce8c0fc5c235"
      },
      "execution_count": 40,
      "outputs": [
        {
          "output_type": "stream",
          "name": "stdout",
          "text": [
            "게임 1 회컴퓨터가 생각한 숫자는? 1\n",
            "맞혔네요 축하합니다.\n"
          ]
        }
      ]
    },
    {
      "cell_type": "code",
      "source": [],
      "metadata": {
        "id": "X9AisAw5dhV3"
      },
      "execution_count": null,
      "outputs": []
    }
  ]
}