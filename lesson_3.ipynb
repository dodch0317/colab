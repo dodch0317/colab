{
  "nbformat": 4,
  "nbformat_minor": 0,
  "metadata": {
    "colab": {
      "name": "lesson 3",
      "provenance": [],
      "authorship_tag": "ABX9TyOI3rBIdVCMJOkwns9dKH1Y",
      "include_colab_link": true
    },
    "kernelspec": {
      "name": "python3",
      "display_name": "Python 3"
    },
    "language_info": {
      "name": "python"
    }
  },
  "cells": [
    {
      "cell_type": "markdown",
      "metadata": {
        "id": "view-in-github",
        "colab_type": "text"
      },
      "source": [
        "<a href=\"https://colab.research.google.com/github/dodch0317/colab/blob/main/lesson_3.ipynb\" target=\"_parent\"><img src=\"https://colab.research.google.com/assets/colab-badge.svg\" alt=\"Open In Colab\"/></a>"
      ]
    },
    {
      "cell_type": "code",
      "execution_count": 5,
      "metadata": {
        "colab": {
          "base_uri": "https://localhost:8080/"
        },
        "id": "2gu8LhU9vhq5",
        "outputId": "2674a78e-347d-4f2c-d1dd-c17511ce8747"
      },
      "outputs": [
        {
          "output_type": "stream",
          "name": "stdout",
          "text": [
            "파운드(lb)를 입력하세요: 15\n",
            "15 파운드(lb)는 6.80388 킬로그램(kg)입니다.\n",
            "킬로그램(kg)을 입력하세요: 15\n",
            "15 킬로그램(kg)은 33.06935 파운드(lb)입니다.\n"
          ]
        }
      ],
      "source": [
        "pound = int(input(\"파운드(lb)를 입력하세요: \"))\n",
        "kg = pound * 0.453592\n",
        "print(pound, \"파운드(lb)는\", round(kg, 5), \"킬로그램(kg)입니다.\")\n",
        "\n",
        "kg = int(input(\"킬로그램(kg)을 입력하세요: \"))\n",
        "pound = kg * 2.204623\n",
        "print(kg, \"킬로그램(kg)은\", round(pound, 5), \"파운드(lb)입니다.\")"
      ]
    },
    {
      "cell_type": "markdown",
      "source": [
        "형성평가 1"
      ],
      "metadata": {
        "id": "7qhNNVty3NK7"
      }
    },
    {
      "cell_type": "code",
      "source": [
        "total = 0\n",
        "\n",
        "#구입한 물품\n",
        "total -= 900 * 10\n",
        "total -= 3500 * 5\n",
        "\n",
        "total += 1800 * 2\n",
        "total += 4000 * 4\n",
        "total += 1500 * 1\n",
        "total += 2000 * 4\n",
        "total += 1800 * 5\n",
        "\n",
        "print(\"오늘 총 매출액은\",total,\"원입니다.\")"
      ],
      "metadata": {
        "colab": {
          "base_uri": "https://localhost:8080/"
        },
        "id": "7Etq3O-C2Q-8",
        "outputId": "6de6a8d1-126c-4fc6-fb02-4d343b71aec1"
      },
      "execution_count": 8,
      "outputs": [
        {
          "output_type": "stream",
          "name": "stdout",
          "text": [
            "오늘 총 매출액은 11600 원입니다.\n"
          ]
        }
      ]
    },
    {
      "cell_type": "markdown",
      "source": [
        "형성평가 편의점 하루 매출 계산하기"
      ],
      "metadata": {
        "id": "dChuM7c23Ofm"
      }
    }
  ]
}