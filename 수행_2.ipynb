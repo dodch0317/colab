{
  "nbformat": 4,
  "nbformat_minor": 0,
  "metadata": {
    "colab": {
      "provenance": [],
      "authorship_tag": "ABX9TyOLYgbJJTUQjyNJTEeE+bhj",
      "include_colab_link": true
    },
    "kernelspec": {
      "name": "python3",
      "display_name": "Python 3"
    },
    "language_info": {
      "name": "python"
    }
  },
  "cells": [
    {
      "cell_type": "markdown",
      "metadata": {
        "id": "view-in-github",
        "colab_type": "text"
      },
      "source": [
        "<a href=\"https://colab.research.google.com/github/dodch0317/colab/blob/main/%EC%88%98%ED%96%89_2.ipynb\" target=\"_parent\"><img src=\"https://colab.research.google.com/assets/colab-badge.svg\" alt=\"Open In Colab\"/></a>"
      ]
    },
    {
      "cell_type": "code",
      "source": [
        "name = \"트와이스\"\n",
        "reverse_name=''\n",
        "\n",
        "for c in name:\n",
        "  reverse_name = c + reverse_name\n",
        "\n",
        "print(f'name      : {name}')\n",
        "print(f'reversed  : {reverse_name}')"
      ],
      "metadata": {
        "colab": {
          "base_uri": "https://localhost:8080/"
        },
        "id": "Ro0J1WP3ow4c",
        "outputId": "8fe65ba3-87ef-42f8-e2f7-63b8e84f70df"
      },
      "execution_count": 5,
      "outputs": [
        {
          "output_type": "stream",
          "name": "stdout",
          "text": [
            "name      : 트와이스\n",
            "reversed  : 스이와트\n"
          ]
        }
      ]
    }
  ]
}