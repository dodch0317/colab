{
  "nbformat": 4,
  "nbformat_minor": 0,
  "metadata": {
    "colab": {
      "provenance": [],
      "authorship_tag": "ABX9TyPi/2wu5ewKKDBmFnw8+V6z",
      "include_colab_link": true
    },
    "kernelspec": {
      "name": "python3",
      "display_name": "Python 3"
    },
    "language_info": {
      "name": "python"
    }
  },
  "cells": [
    {
      "cell_type": "markdown",
      "metadata": {
        "id": "view-in-github",
        "colab_type": "text"
      },
      "source": [
        "<a href=\"https://colab.research.google.com/github/dodch0317/colab/blob/main/%EC%88%98%ED%96%89_4.ipynb\" target=\"_parent\"><img src=\"https://colab.research.google.com/assets/colab-badge.svg\" alt=\"Open In Colab\"/></a>"
      ]
    },
    {
      "cell_type": "code",
      "execution_count": 2,
      "metadata": {
        "colab": {
          "base_uri": "https://localhost:8080/"
        },
        "id": "tb22JDUhztqy",
        "outputId": "ba1d35a6-950e-452b-f874-565bc1ea00dc"
      },
      "outputs": [
        {
          "output_type": "stream",
          "name": "stdout",
          "text": [
            "파운드(ib)를 입력하세요: 15\n",
            "15 파운드(ib)는 6.80388 킬로그램(kg)입니다.\n",
            "킬로그램(kg)을 입력하세요: 15\n",
            "15 킬로그램(kg)은 33.06935 파운드(ib)입니다.\n"
          ]
        }
      ],
      "source": [
        "pound = int(input(\"파운드(ib)를 입력하세요: \"))\n",
        "kg = pound * 0.453592\n",
        "print(pound, \"파운드(ib)는\", round(kg, 5), \"킬로그램(kg)입니다.\")\n",
        "\n",
        "kg = int(input(\"킬로그램(kg)을 입력하세요: \"))\n",
        "pound = kg * 2.204623\n",
        "print(kg, \"킬로그램(kg)은\", round(pound, 5), \"파운드(ib)입니다.\")"
      ]
    }
  ]
}