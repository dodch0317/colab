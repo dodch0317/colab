{
  "nbformat": 4,
  "nbformat_minor": 0,
  "metadata": {
    "colab": {
      "provenance": [],
      "authorship_tag": "ABX9TyPK51vXV4PlYbAEj7xLlwr/",
      "include_colab_link": true
    },
    "kernelspec": {
      "name": "python3",
      "display_name": "Python 3"
    },
    "language_info": {
      "name": "python"
    }
  },
  "cells": [
    {
      "cell_type": "markdown",
      "metadata": {
        "id": "view-in-github",
        "colab_type": "text"
      },
      "source": [
        "<a href=\"https://colab.research.google.com/github/dodch0317/colab/blob/main/lesson_5.ipynb\" target=\"_parent\"><img src=\"https://colab.research.google.com/assets/colab-badge.svg\" alt=\"Open In Colab\"/></a>"
      ]
    },
    {
      "cell_type": "code",
      "execution_count": 1,
      "metadata": {
        "colab": {
          "base_uri": "https://localhost:8080/"
        },
        "id": "QixFpUKEzq3D",
        "outputId": "6d630cfe-d817-466c-da49-8f07f87ea73b"
      },
      "outputs": [
        {
          "output_type": "stream",
          "name": "stdout",
          "text": [
            "100보다 작습니다.\n"
          ]
        }
      ],
      "source": [
        "num = 99\n",
        "if num < 100 :\n",
        "  print(\"100보다 작습니다.\")"
      ]
    },
    {
      "cell_type": "markdown",
      "source": [
        "if문 예제"
      ],
      "metadata": {
        "id": "r0mFDvmq5ARK"
      }
    },
    {
      "cell_type": "code",
      "source": [
        "num = 200\n",
        "if num > 100 :\n",
        "  print(\"100보다 \")\n",
        "  print(\"큽니다.\")\n",
        "  print(\"프로그램 끝\")"
      ],
      "metadata": {
        "colab": {
          "base_uri": "https://localhost:8080/"
        },
        "id": "GuS7xXtz3VGR",
        "outputId": "26f7eec0-7c6c-426a-f470-eecd5301ac02"
      },
      "execution_count": 2,
      "outputs": [
        {
          "output_type": "stream",
          "name": "stdout",
          "text": [
            "100보다 \n",
            "큽니다.\n",
            "프로그램 끝\n"
          ]
        }
      ]
    },
    {
      "cell_type": "markdown",
      "source": [
        "if else문 예제"
      ],
      "metadata": {
        "id": "v_zljDBB47_C"
      }
    },
    {
      "cell_type": "code",
      "source": [
        "num = 200\n",
        "if num < 100 :\n",
        "    print(\"100보다 작군요.\")\n",
        "else : \n",
        "    print(\"100보다 크군요.\")"
      ],
      "metadata": {
        "colab": {
          "base_uri": "https://localhost:8080/"
        },
        "id": "-JHsvypw4lA7",
        "outputId": "440736ca-eab6-4f90-972d-d73e2e420957"
      },
      "execution_count": 3,
      "outputs": [
        {
          "output_type": "stream",
          "name": "stdout",
          "text": [
            "100보다 크군요.\n"
          ]
        }
      ]
    },
    {
      "cell_type": "markdown",
      "source": [
        "짝수 홀수 판별 프로그램"
      ],
      "metadata": {
        "id": "eMcIvGCD5hAT"
      }
    },
    {
      "cell_type": "code",
      "source": [
        "num = int(input(\"정수를 입력: \"))\n",
        "if(num % 2) == 0 :\n",
        "    print(num, \"짝수입니다.\")\n",
        "else :\n",
        "    print(num, \"홀수입니다.\")"
      ],
      "metadata": {
        "colab": {
          "base_uri": "https://localhost:8080/"
        },
        "id": "enZKkPMY5DML",
        "outputId": "5f484b2e-fd4a-4a7c-9b1a-8cf1655568c9"
      },
      "execution_count": 6,
      "outputs": [
        {
          "output_type": "stream",
          "name": "stdout",
          "text": [
            "정수를 입력: 1\n",
            "1 홀수입니다.\n"
          ]
        }
      ]
    },
    {
      "cell_type": "code",
      "source": [
        "num = int(input(\"숫자를 입력 ==> \"))\n",
        "if num > 100 :\n",
        "  if num < 1000 :\n",
        "    print(\"100보다 크고 1000보다 작군요\")\n",
        "  else : \n",
        "        print(\"1000보다 크군요\")\n",
        "else:\n",
        "        print(\"100보다 작군요\")"
      ],
      "metadata": {
        "colab": {
          "base_uri": "https://localhost:8080/"
        },
        "id": "PzaO2plg6RXS",
        "outputId": "f6588fee-f181-4c67-8a56-3e2f2c78e2bd"
      },
      "execution_count": 9,
      "outputs": [
        {
          "output_type": "stream",
          "name": "stdout",
          "text": [
            "숫자를 입력 ==> 1234\n",
            "1000보다 크군요\n"
          ]
        }
      ]
    },
    {
      "cell_type": "code",
      "source": [
        "score = int(input(\"점수를 입력 == > \"))\n",
        "\n",
        "if score >= 90 :\n",
        "  print(\"A\", end='')\n",
        "else :\n",
        "  if score >= 80 :\n",
        "    print(\"B\", end='')\n",
        "  else :\n",
        "    if score >= 70 :\n",
        "      print(\"C\", end='')\n",
        "    else :\n",
        "      if score >= 60 :\n",
        "        print(\"D\", end='')\n",
        "      else :\n",
        "        print(\"F\", end='')\n",
        "print(\"학점입니다.\")"
      ],
      "metadata": {
        "colab": {
          "base_uri": "https://localhost:8080/"
        },
        "id": "d5DcKu7N8rEC",
        "outputId": "562fe875-a00c-4806-ae3d-a8ee06c8c7dd"
      },
      "execution_count": 12,
      "outputs": [
        {
          "output_type": "stream",
          "name": "stdout",
          "text": [
            "점수를 입력 == > 83\n",
            "B학점입니다.\n"
          ]
        }
      ]
    },
    {
      "cell_type": "code",
      "source": [
        "score = int(input(\"점수를 입력 ==> \"))\n",
        "\n",
        "if score >= 90 :\n",
        "  print(\"A\", end='')\n",
        "elif score >= 80 :\n",
        "  print(\"B\", end='')\n",
        "elif score >= 70 :\n",
        "  print(\"C\", end='')\n",
        "elif score >= 60 :\n",
        "  print(\"D\", end='')\n",
        "else :\n",
        "  print(\"F\", end='')\n",
        "  print(\"학점입니다.\")"
      ],
      "metadata": {
        "colab": {
          "base_uri": "https://localhost:8080/"
        },
        "id": "YxKZMLOqBUFB",
        "outputId": "7c67866d-4e37-4411-93dd-208376af388f"
      },
      "execution_count": 14,
      "outputs": [
        {
          "output_type": "stream",
          "name": "stdout",
          "text": [
            "점수를 입력 ==> 12\n",
            "F학점입니다.\n"
          ]
        }
      ]
    },
    {
      "cell_type": "code",
      "source": [
        "import random\n",
        "\n",
        "rnd = random.randint(1,45)\n",
        "lunch = random.choice([\"짜장면\", \"라면\", \"김밥\", \"짬뽕\"])\n",
        "print(rnd, lunch)"
      ],
      "metadata": {
        "colab": {
          "base_uri": "https://localhost:8080/"
        },
        "id": "cjZNugnADt4e",
        "outputId": "28c34a09-883a-4e33-9247-6a5303324685"
      },
      "execution_count": 25,
      "outputs": [
        {
          "output_type": "stream",
          "name": "stdout",
          "text": [
            "21 짜장면\n"
          ]
        }
      ]
    },
    {
      "cell_type": "markdown",
      "source": [
        "가위바위보 게임"
      ],
      "metadata": {
        "id": "MvaSMl0TGk9J"
      }
    },
    {
      "cell_type": "code",
      "source": [
        "import random\n",
        "\n",
        "myHand = input(\"나의 가위/바위/보 ==> \")\n",
        "comHand = random.choice([\"가위\", \"바위\", \"보\"])\n",
        "print(\"컴퓨터의 가위/바위/보 ==> \", comHand)\n",
        "\n",
        "if myHand == comHand :\n",
        "  print(\"비겼습니다.\")\n",
        "elif (myHand == \"가위\" and comHand == \"보\") or \\\n",
        "      (myHand == \"바위\" and comHand == \"가위\") or \\\n",
        "      (myHand == \"보\" and comHand == \"바위\"):\n",
        "      print(\"이겼습니다\")"
      ],
      "metadata": {
        "colab": {
          "base_uri": "https://localhost:8080/"
        },
        "id": "GW4XHtsoGmkJ",
        "outputId": "e1f4cf70-c548-4300-9440-ee53eb63eb35"
      },
      "execution_count": 46,
      "outputs": [
        {
          "output_type": "stream",
          "name": "stdout",
          "text": [
            "나의 가위/바위/보 ==> 가위\n",
            "컴퓨터의 가위/바위/보 ==>  보\n",
            "이겼습니다.\n"
          ]
        }
      ]
    },
    {
      "cell_type": "code",
      "source": [
        "import random\n",
        "\n"
      ],
      "metadata": {
        "id": "k1m1eC-zH9DT"
      },
      "execution_count": null,
      "outputs": []
    }
  ]
}