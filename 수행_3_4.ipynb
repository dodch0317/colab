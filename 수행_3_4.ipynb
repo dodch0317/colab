{
  "nbformat": 4,
  "nbformat_minor": 0,
  "metadata": {
    "colab": {
      "provenance": [],
      "authorship_tag": "ABX9TyOEdtzX5cF75LwUG8K260/b",
      "include_colab_link": true
    },
    "kernelspec": {
      "name": "python3",
      "display_name": "Python 3"
    },
    "language_info": {
      "name": "python"
    }
  },
  "cells": [
    {
      "cell_type": "markdown",
      "metadata": {
        "id": "view-in-github",
        "colab_type": "text"
      },
      "source": [
        "<a href=\"https://colab.research.google.com/github/dodch0317/colab/blob/main/%EC%88%98%ED%96%89_3_4.ipynb\" target=\"_parent\"><img src=\"https://colab.research.google.com/assets/colab-badge.svg\" alt=\"Open In Colab\"/></a>"
      ]
    },
    {
      "cell_type": "code",
      "execution_count": 11,
      "metadata": {
        "colab": {
          "base_uri": "https://localhost:8080/"
        },
        "id": "2z2OafXqhGTZ",
        "outputId": "a3eedf96-980f-4f3b-da4d-9e813eb57218"
      },
      "outputs": [
        {
          "output_type": "stream",
          "name": "stdout",
          "text": [
            "나의 가위/바위/보 ==> 가위\n",
            "컴퓨터의 가위/바위/보 ==>  보\n",
            "이겼습니다\n"
          ]
        }
      ],
      "source": [
        "import random\n",
        "\n",
        "myHand = input(\"나의 가위/바위/보 ==> \")\n",
        "comHand = random.choice([\"가위\", \"바위\", \"보\"])\n",
        "print(\"컴퓨터의 가위/바위/보 ==> \", comHand)\n",
        "\n",
        "if myHand == comHand :\n",
        "  print(\"비겼습니다.\")\n",
        "elif (myHand == \"가위\" and comHand == \"보\") or \\\n",
        "      (myHand == \"바위\" and comHand == \"가위\") or \\\n",
        "      (myHand == \"보\" and comHand == \"바위\"):\n",
        "      print(\"이겼습니다\")\n",
        "else :\n",
        "      print(\"졌습니다\")"
      ]
    }
  ]
}