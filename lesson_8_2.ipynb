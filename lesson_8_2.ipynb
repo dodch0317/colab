{
  "nbformat": 4,
  "nbformat_minor": 0,
  "metadata": {
    "colab": {
      "provenance": [],
      "authorship_tag": "ABX9TyOJgtvcdUfB+saq97yBVPj6",
      "include_colab_link": true
    },
    "kernelspec": {
      "name": "python3",
      "display_name": "Python 3"
    },
    "language_info": {
      "name": "python"
    }
  },
  "cells": [
    {
      "cell_type": "markdown",
      "metadata": {
        "id": "view-in-github",
        "colab_type": "text"
      },
      "source": [
        "<a href=\"https://colab.research.google.com/github/dodch0317/colab/blob/main/lesson_8_2.ipynb\" target=\"_parent\"><img src=\"https://colab.research.google.com/assets/colab-badge.svg\" alt=\"Open In Colab\"/></a>"
      ]
    },
    {
      "cell_type": "code",
      "execution_count": 23,
      "metadata": {
        "colab": {
          "base_uri": "https://localhost:8080/"
        },
        "id": "HuNtiZ7n4kLN",
        "outputId": "ff17b6f2-acdf-42de-94ba-4dcbe06dac3c"
      },
      "outputs": [
        {
          "output_type": "stream",
          "name": "stdout",
          "text": [
            "로또 추첨 시작. \n",
            "\n",
            "오늘의 로또 번호 ==> 10 11 24 30 33 41 "
          ]
        }
      ],
      "source": [
        "import random\n",
        "\n",
        "def lottoFunc():\n",
        "    lottoNum = random.randint(1, 45)\n",
        "    return lottoNum\n",
        "\n",
        "lottoList = []\n",
        "num = 0\n",
        "\n",
        "print(\"로또 추첨 시작. \\n\");\n",
        "while True:\n",
        "  num = lottoFunc()\n",
        "\n",
        "  if num in lottoList: \n",
        "    continue\n",
        "  else :\n",
        "    lottoList.append(num)\n",
        "  if len(lottoList) == 6: \n",
        "    break\n",
        "\n",
        "print(\"오늘의 로또 번호 ==> \", end=\"\")\n",
        "lottoList.sort()\n",
        "\n",
        "for i in range(6):\n",
        "  print(lottoList[i],\"\", end=\"\")"
      ]
    }
  ]
}