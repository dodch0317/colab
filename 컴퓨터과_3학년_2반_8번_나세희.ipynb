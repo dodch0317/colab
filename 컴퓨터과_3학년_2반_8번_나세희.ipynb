{
  "nbformat": 4,
  "nbformat_minor": 0,
  "metadata": {
    "colab": {
      "name": "컴퓨터과 3학년 2반 8번 나세희",
      "provenance": [],
      "authorship_tag": "ABX9TyNcReb/MhvFMNjblMsMlx9L",
      "include_colab_link": true
    },
    "kernelspec": {
      "name": "python3",
      "display_name": "Python 3"
    },
    "language_info": {
      "name": "python"
    }
  },
  "cells": [
    {
      "cell_type": "markdown",
      "metadata": {
        "id": "view-in-github",
        "colab_type": "text"
      },
      "source": [
        "<a href=\"https://colab.research.google.com/github/dodch0317/colab/blob/main/%EC%BB%B4%ED%93%A8%ED%84%B0%EA%B3%BC_3%ED%95%99%EB%85%84_2%EB%B0%98_8%EB%B2%88_%EB%82%98%EC%84%B8%ED%9D%AC.ipynb\" target=\"_parent\"><img src=\"https://colab.research.google.com/assets/colab-badge.svg\" alt=\"Open In Colab\"/></a>"
      ]
    },
    {
      "cell_type": "code",
      "execution_count": null,
      "metadata": {
        "id": "Z9u63uquEiZQ"
      },
      "outputs": [],
      "source": [
        "컴퓨터과 3학년 2반 8번 나세희 논술형"
      ]
    },
    {
      "cell_type": "markdown",
      "source": [],
      "metadata": {
        "id": "x6_sK7cIEoXT"
      }
    },
    {
      "cell_type": "code",
      "source": [
        "num1 = int(input(\"숫자 1: \"))\n",
        "num2 = int(input(\"숫자 2: \"))\n",
        "\n",
        "result1 = num1 + num2\n",
        "result2 = num1 - num2\n",
        "result3 = num1 * num2\n",
        "result4 = num1 / num2\n",
        "result5 = num1 % num2\n",
        "result6 = num1 ** num2\n",
        "result7 = num1 // num2\n",
        "\n",
        "print(num1, \"+\", num2, \"=\", result1)\n",
        "print(num1, \"-\", num2, \"=\", result2)\n",
        "print(num1, \"*\", num2, \"=\", result3)\n",
        "print(num1, \"/\", num2, \"=\", result4)\n",
        "print(num1, \"%\", num2, \"=\", result5)\n",
        "print(num1, \"**\", num2, \"=\", result6)\n",
        "print(num1, \"//\", num2, \"=\", result7)"
      ],
      "metadata": {
        "colab": {
          "base_uri": "https://localhost:8080/"
        },
        "id": "IzxZ2RetGUW0",
        "outputId": "e4245392-6dbd-48f6-8b52-20f269866ffa"
      },
      "execution_count": 8,
      "outputs": [
        {
          "output_type": "stream",
          "name": "stdout",
          "text": [
            "숫자 1: 5\n",
            "숫자 2: 4\n",
            "5 + 4 = 9\n",
            "5 - 4 = 1\n",
            "5 * 4 = 20\n",
            "5 / 4 = 1.25\n",
            "5 % 4 = 1\n",
            "5 ** 4 = 625\n",
            "5 // 4 = 1\n"
          ]
        }
      ]
    }
  ]
}