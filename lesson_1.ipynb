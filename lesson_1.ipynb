{
  "nbformat": 4,
  "nbformat_minor": 0,
  "metadata": {
    "colab": {
      "name": "lesson.1",
      "provenance": [],
      "authorship_tag": "ABX9TyPguRHNy6PuxL2AbNrIjKpx",
      "include_colab_link": true
    },
    "kernelspec": {
      "name": "python3",
      "display_name": "Python 3"
    },
    "language_info": {
      "name": "python"
    }
  },
  "cells": [
    {
      "cell_type": "markdown",
      "metadata": {
        "id": "view-in-github",
        "colab_type": "text"
      },
      "source": [
        "<a href=\"https://colab.research.google.com/github/dodch0317/colab/blob/main/lesson_1.ipynb\" target=\"_parent\"><img src=\"https://colab.research.google.com/assets/colab-badge.svg\" alt=\"Open In Colab\"/></a>"
      ]
    },
    {
      "cell_type": "code",
      "execution_count": null,
      "metadata": {
        "id": "7XsV7q6xoW96"
      },
      "outputs": [],
      "source": [
        ""
      ]
    },
    {
      "cell_type": "code",
      "source": [
        "print(\"난생 처름 파이썬을\")"
      ],
      "metadata": {
        "colab": {
          "base_uri": "https://localhost:8080/"
        },
        "id": "nn5tQKJGohgh",
        "outputId": "902d6775-77e8-4d9a-e6d1-df8fd02f27d4"
      },
      "execution_count": 1,
      "outputs": [
        {
          "output_type": "stream",
          "name": "stdout",
          "text": [
            "난생 처름 파이썬을\n"
          ]
        }
      ]
    },
    {
      "cell_type": "code",
      "source": [
        "print(\"열심히 공부 중입니다~\")"
      ],
      "metadata": {
        "colab": {
          "base_uri": "https://localhost:8080/"
        },
        "id": "bwMA6Kl9omRB",
        "outputId": "194587c3-01e3-4115-e611-2855c403f318"
      },
      "execution_count": 2,
      "outputs": [
        {
          "output_type": "stream",
          "name": "stdout",
          "text": [
            "열심히 공부 중입니다~\n"
          ]
        }
      ]
    },
    {
      "cell_type": "code",
      "source": [
        "print(\"이젠 저도 파이썬 프로그래머입니다. ^^\")"
      ],
      "metadata": {
        "colab": {
          "base_uri": "https://localhost:8080/"
        },
        "id": "l1DFDXxwomVR",
        "outputId": "b0c143da-00a5-433f-e200-db40ac33f544"
      },
      "execution_count": 3,
      "outputs": [
        {
          "output_type": "stream",
          "name": "stdout",
          "text": [
            "이젠 저도 파이썬 프로그래머입니다. ^^\n"
          ]
        }
      ]
    }
  ]
}