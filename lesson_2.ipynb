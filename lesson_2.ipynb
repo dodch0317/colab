{
  "nbformat": 4,
  "nbformat_minor": 0,
  "metadata": {
    "colab": {
      "name": "lesson 2",
      "provenance": [],
      "authorship_tag": "ABX9TyOczFz+ZiR/FpT1G9zqWLen",
      "include_colab_link": true
    },
    "kernelspec": {
      "name": "python3",
      "display_name": "Python 3"
    },
    "language_info": {
      "name": "python"
    }
  },
  "cells": [
    {
      "cell_type": "markdown",
      "metadata": {
        "id": "view-in-github",
        "colab_type": "text"
      },
      "source": [
        "<a href=\"https://colab.research.google.com/github/dodch0317/colab/blob/main/lesson_2.ipynb\" target=\"_parent\"><img src=\"https://colab.research.google.com/assets/colab-badge.svg\" alt=\"Open In Colab\"/></a>"
      ]
    },
    {
      "cell_type": "code",
      "execution_count": null,
      "metadata": {
        "colab": {
          "base_uri": "https://localhost:8080/"
        },
        "id": "s_-2i1onAlg6",
        "outputId": "7a4f5912-7101-468b-be03-acec52fb14e5"
      },
      "outputs": [
        {
          "output_type": "stream",
          "name": "stdout",
          "text": [
            "100 + 200 = 300\n",
            "100 - 200 = -100\n",
            "100 * 200 = 20000\n",
            "100 / 200 = 0.5\n"
          ]
        }
      ],
      "source": [
        "num1 = 100\n",
        "num2 = 200\n",
        "\n",
        "result1 = num1 + num2\n",
        "result2 = num1 - num2\n",
        "result3 = num1 * num2\n",
        "result4 = num1 / num2\n",
        "\n",
        "print(num1, \"+\", num2, \"=\", result1)\n",
        "print(num1, \"-\", num2, \"=\", result2)\n",
        "print(num1, \"*\", num2, \"=\", result3)\n",
        "print(num1, \"/\", num2, \"=\", result4)"
      ]
    },
    {
      "cell_type": "markdown",
      "source": [
        "파이선 2장 변수와 함수"
      ],
      "metadata": {
        "id": "UIKrK7CNB4M8"
      }
    },
    {
      "cell_type": "markdown",
      "source": [
        "input 함수 예제"
      ],
      "metadata": {
        "id": "jvwl-CTQGdN4"
      }
    },
    {
      "cell_type": "code",
      "source": [
        "num1 = input (\"첫 번째 숫자 입력: \")\n",
        "num2 = input (\"두 번째 숫자 입력: \")\n",
        "result = num1 + num2\n",
        "print(result)"
      ],
      "metadata": {
        "colab": {
          "base_uri": "https://localhost:8080/"
        },
        "id": "BYaI7ed5Gf6f",
        "outputId": "c5260939-f087-4301-d4b2-60d938b2fcef"
      },
      "execution_count": null,
      "outputs": [
        {
          "output_type": "stream",
          "name": "stdout",
          "text": [
            "첫 번째 숫자 입력: 100\n",
            "두 번째 숫자 입력: 200\n",
            "100200\n"
          ]
        }
      ]
    },
    {
      "cell_type": "code",
      "source": [
        "num1 = input(\"첫 번째 숫자 입력: \")\n",
        "num2 = input(\"두 번째 숫자 입력: \")\n",
        "\n",
        "print(num1, \"+\", num2, \"=\", result1)\n",
        "print(num1, \"-\", num2, \"=\", result2)\n",
        "print(num1, \"*\", num2, \"=\", result3)\n",
        "print(num1, \"/\", num2, \"=\", result4)"
      ],
      "metadata": {
        "colab": {
          "base_uri": "https://localhost:8080/"
        },
        "id": "jZ7--Gm7JTLF",
        "outputId": "a1fb4588-b440-4530-9952-b20522160864"
      },
      "execution_count": null,
      "outputs": [
        {
          "output_type": "stream",
          "name": "stdout",
          "text": [
            "첫 번째 숫자 입력: 100\n",
            "두 번째 숫자 입력: 200\n",
            "100 + 200 = 100200\n",
            "100 - 200 = -100\n",
            "100 * 200 = 20000\n",
            "100 / 200 = 0.5\n"
          ]
        }
      ]
    },
    {
      "cell_type": "markdown",
      "source": [
        "논술 문제 input 함수를 이용한 간단한 계산기 만들기"
      ],
      "metadata": {
        "id": "D1aa9l7yJTut"
      }
    },
    {
      "cell_type": "code",
      "source": [
        "Name = input(\"이름: \")\n",
        "Telnumber = input(\"전화번호: \")\n",
        "print(\"제 이름은 Name이고, 연락처는 Telnumber입니다.\")"
      ],
      "metadata": {
        "id": "2eHvxDsxOg5p"
      },
      "execution_count": null,
      "outputs": []
    },
    {
      "cell_type": "code",
      "source": [
        "print(\"## 택배를 보내기 위한 정보를 입력하세요. ##\")\n",
        "personName = input(\"받는 사람: \")\n",
        "personAddr = input(\"주소: \")\n",
        "weight = int(input(\"무게(g): \"))\n",
        "\n",
        "print(\"** 받는 사람 ==>\", personName)\n",
        "print(\"** 주소 ==>\", personAddr)\n",
        "print(\"** 배송비 ==>\", weight * 5, \"원\")"
      ],
      "metadata": {
        "colab": {
          "base_uri": "https://localhost:8080/"
        },
        "id": "1GoSM2GUQhtm",
        "outputId": "352be7c5-f620-4cd1-ce8e-6c2bcb3528d0"
      },
      "execution_count": null,
      "outputs": [
        {
          "output_type": "stream",
          "name": "stdout",
          "text": [
            "## 택배를 보내기 위한 정보를 입력하세요. ##\n",
            "받는 사람: 김난생\n",
            "주소: 서울 영등포구 여의도동 88\n",
            "무게(g): 721\n",
            "** 받는 사람 ==> 김난생\n",
            "** 주소 ==> 서울 영등포구 여의도동 88\n",
            "** 배송비 ==> 3605 원\n"
          ]
        }
      ]
    },
    {
      "cell_type": "code",
      "source": [
        "num1 = int(input(\"숫자 1: \"))\n",
        "num2 = int(input(\"숫자 2: \"))\n",
        "\n",
        "result1 = num1 + num2\n",
        "result2 = num1 - num2\n",
        "result3 = num1 * num2\n",
        "result4 = num1 / num2\n",
        "result5 = num1 % num2\n",
        "result6 = num1 ** num2\n",
        "result7 = num1 // num2\n",
        "\n",
        "print(num1, \"+\", num2, \"=\", result1)\n",
        "print(num1, \"-\", num2, \"=\", result2)\n",
        "print(num1, \"*\", num2, \"=\", result3)\n",
        "print(num1, \"/\", num2, \"=\", result4)\n",
        "print(num1, \"%\", num2, \"=\", result5)\n",
        "print(num1, \"**\", num2, \"=\", result6)\n",
        "print(num1, \"//\", num2, \"=\", result7)"
      ],
      "metadata": {
        "colab": {
          "base_uri": "https://localhost:8080/"
        },
        "id": "nak_l9-jTQdY",
        "outputId": "c7cbd16b-475a-413a-c1af-c1c645c989f0"
      },
      "execution_count": null,
      "outputs": [
        {
          "output_type": "stream",
          "name": "stdout",
          "text": [
            "숫자 1: 100\n",
            "숫자 2: 10\n",
            "100 + 10 = 110\n",
            "100 - 10 = 90\n",
            "100 * 10 = 1000\n",
            "100 / 10 = 10.0\n",
            "100 % 10 = 0\n",
            "100 ** 10 = 100000000000000000000\n",
            "100 // 10 = 10\n"
          ]
        }
      ]
    },
    {
      "cell_type": "markdown",
      "source": [
        ""
      ],
      "metadata": {
        "id": "UtfBgtDkWGI2"
      }
    },
    {
      "cell_type": "code",
      "source": [
        "import turtle\n",
        "turtle.shape('turtle')\n",
        "turtle.forward(200)\n",
        "turtle.left(90)\n",
        "turtle.forward(200)\n",
        "turtle.left(90)\n",
        "turtle.forward(200)\n",
        "turtle.left(90)\n",
        "turtle.forward(200)"
      ],
      "metadata": {
        "id": "OAX_Sh0hVlsj"
      },
      "execution_count": null,
      "outputs": []
    }
  ]
}