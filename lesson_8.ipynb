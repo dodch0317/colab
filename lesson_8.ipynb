{
  "nbformat": 4,
  "nbformat_minor": 0,
  "metadata": {
    "colab": {
      "provenance": [],
      "authorship_tag": "ABX9TyOvlD0yyC5HypDrjRqaSHet",
      "include_colab_link": true
    },
    "kernelspec": {
      "name": "python3",
      "display_name": "Python 3"
    },
    "language_info": {
      "name": "python"
    }
  },
  "cells": [
    {
      "cell_type": "markdown",
      "metadata": {
        "id": "view-in-github",
        "colab_type": "text"
      },
      "source": [
        "<a href=\"https://colab.research.google.com/github/dodch0317/colab/blob/main/lesson_8.ipynb\" target=\"_parent\"><img src=\"https://colab.research.google.com/assets/colab-badge.svg\" alt=\"Open In Colab\"/></a>"
      ]
    },
    {
      "cell_type": "code",
      "execution_count": 2,
      "metadata": {
        "colab": {
          "base_uri": "https://localhost:8080/"
        },
        "id": "XUfpFbqBURbJ",
        "outputId": "832c4a6b-443f-49ea-c74c-21315f95e2c5"
      },
      "outputs": [
        {
          "output_type": "stream",
          "name": "stdout",
          "text": [
            "A 님, 두 숫자를 입력하세요\n",
            "정수1 ==> 1\n",
            "정수2 ==> 2\n",
            "결과:  3\n",
            "B 님, 두 숫자를 입력하세요\n",
            "정수1 ==> 3\n",
            "정수2 ==> 2\n",
            "결과:  5\n",
            "C 님, 두 숫자를 입력하세요\n",
            "정수1 ==> 5\n",
            "정수2 ==> 1\n",
            "결과:  6\n"
          ]
        }
      ],
      "source": [
        "print(\"A 님, 두 숫자를 입력하세요\")\n",
        "num1 = int(input(\"정수1 ==> \"))\n",
        "num2 = int(input(\"정수2 ==> \"))\n",
        "hap = num1 + num2\n",
        "print(\"결과: \", hap)\n",
        "\n",
        "print(\"B 님, 두 숫자를 입력하세요\")\n",
        "num1 = int(input(\"정수1 ==> \"))\n",
        "num2 = int(input(\"정수2 ==> \"))\n",
        "hap = num1 + num2\n",
        "print(\"결과: \", hap)\n",
        "\n",
        "print(\"C 님, 두 숫자를 입력하세요\")\n",
        "num1 = int(input(\"정수1 ==> \"))\n",
        "num2 = int(input(\"정수2 ==> \"))\n",
        "hap = num1 + num2\n",
        "print(\"결과: \", hap)"
      ]
    },
    {
      "cell_type": "code",
      "source": [
        "def hapFunc(): \n",
        "  num1 = int(input(\"정수 1 ==> \"))\n",
        "  num2 = int(input(\"정수 2 ==> \"))\n",
        "  return num1 + num2\n",
        "\n",
        "print(\"A 님, 두 숫자를 입력하세요\")\n",
        "hao = hapFunc()\n",
        "print(\"결과: \", hap)\n",
        "\n",
        "print(\"B 님, 두 숫자를 입력하세요\")\n",
        "hao = hapFunc()\n",
        "print(\"결과: \", hap)\n",
        "\n",
        "print(\"C 님, 두 숫자를 입력하세요\")\n",
        "hao = hapFunc()\n",
        "print(\"결과: \", hap)"
      ],
      "metadata": {
        "id": "VE1RQ0PamAYo"
      },
      "execution_count": null,
      "outputs": []
    },
    {
      "cell_type": "code",
      "source": [
        "def calc (v1,v2, op) :\n",
        "  result = 0\n",
        "  if op == '+' :\n",
        "    result = v1 + v2\n",
        "  elif op == '-' :\n",
        "    result =v1 - v2\n",
        "  elif op == '*' :\n",
        "    result =v1 * v2\n",
        "  elif op == '/' :\n",
        "    result =v1 / v2\n",
        "  return result\n",
        "\n",
        "ras = 0\n",
        "var1, var2, oper = 0, 0, \"\"\n",
        "\n",
        "oper = input(\"계산 입력 (+, -, *, /): \")\n",
        "var1 = int(input(\"첫 번째 숫자 입력: \"))\n",
        "var2 = int(input(\"두 번째 숫자 입력: \"))\n",
        "\n",
        "res = calc (var1, var2, oper)\n",
        "print(\"계산기: \", var1, oper, var2, \"=\", res)"
      ],
      "metadata": {
        "colab": {
          "base_uri": "https://localhost:8080/"
        },
        "id": "TWkKfMnRmTPC",
        "outputId": "1eb6b161-9600-4ed9-f1a1-78996c017b3e"
      },
      "execution_count": 7,
      "outputs": [
        {
          "output_type": "stream",
          "name": "stdout",
          "text": [
            "계산 입력 (+, -, *, /): /\n",
            "첫 번째 숫자 입력: 2\n",
            "두 번째 숫자 입력: 4\n",
            "계산기:  2 / 4 = 0.5\n"
          ]
        }
      ]
    }
  ]
}