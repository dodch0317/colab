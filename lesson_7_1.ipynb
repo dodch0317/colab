{
  "nbformat": 4,
  "nbformat_minor": 0,
  "metadata": {
    "colab": {
      "provenance": [],
      "authorship_tag": "ABX9TyPrhKqN7bRKJTvJN5n/RMqk",
      "include_colab_link": true
    },
    "kernelspec": {
      "name": "python3",
      "display_name": "Python 3"
    },
    "language_info": {
      "name": "python"
    }
  },
  "cells": [
    {
      "cell_type": "markdown",
      "metadata": {
        "id": "view-in-github",
        "colab_type": "text"
      },
      "source": [
        "<a href=\"https://colab.research.google.com/github/dodch0317/colab/blob/main/lesson_7_1.ipynb\" target=\"_parent\"><img src=\"https://colab.research.google.com/assets/colab-badge.svg\" alt=\"Open In Colab\"/></a>"
      ]
    },
    {
      "cell_type": "code",
      "execution_count": null,
      "metadata": {
        "id": "WInNpUeERJjL"
      },
      "outputs": [],
      "source": [
        "numList = []\n",
        "for i in range(0, 4) :\n",
        "  numList.append(0)\n",
        "hap = 0\n",
        "\n",
        "for i in range(0, 4) :\n",
        "  numList[i] = int(input(\"숫자: \"))\n",
        "\n",
        "hap = numList[0] + numList[i] + numList[2] + numList[3]\n",
        "\n",
        "print(\"합계 ==>\", hap)"
      ]
    },
    {
      "cell_type": "code",
      "source": [
        "print(\"홍길동 선수 경기 끝났습니다.\")\n",
        " \n",
        "score = []\n",
        "for i in range(5) :\n",
        "  some = int(input(\"평균 점수 ==>\"))\n",
        "  score.append(some)\n",
        "\n",
        "  some = 0\n",
        "  for i in range(5) :\n",
        "      some += score[i]\n",
        "    \n",
        "\n",
        "avg = some / 5\n",
        "print(\"심사위원 평균 점수: \", avg)"
      ],
      "metadata": {
        "colab": {
          "base_uri": "https://localhost:8080/"
        },
        "id": "CrsF2Iknampw",
        "outputId": "5697a833-3ffa-45f8-f8f3-389ff9dfdd92"
      },
      "execution_count": null,
      "outputs": [
        {
          "output_type": "stream",
          "name": "stdout",
          "text": [
            "홍길동 선수 경기 끝났습니다.\n"
          ]
        }
      ]
    }
  ]
}