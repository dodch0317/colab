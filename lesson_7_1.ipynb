{
  "nbformat": 4,
  "nbformat_minor": 0,
  "metadata": {
    "colab": {
      "provenance": [],
      "authorship_tag": "ABX9TyOzhHHGsmFM6WK9a/BBlN5N",
      "include_colab_link": true
    },
    "kernelspec": {
      "name": "python3",
      "display_name": "Python 3"
    },
    "language_info": {
      "name": "python"
    }
  },
  "cells": [
    {
      "cell_type": "markdown",
      "metadata": {
        "id": "view-in-github",
        "colab_type": "text"
      },
      "source": [
        "<a href=\"https://colab.research.google.com/github/dodch0317/colab/blob/main/lesson_7_1.ipynb\" target=\"_parent\"><img src=\"https://colab.research.google.com/assets/colab-badge.svg\" alt=\"Open In Colab\"/></a>"
      ]
    },
    {
      "cell_type": "code",
      "execution_count": null,
      "metadata": {
        "id": "WInNpUeERJjL"
      },
      "outputs": [],
      "source": [
        "numList = []\n",
        "for i in range(0, 4) :\n",
        "  numList.append(0)\n",
        "hap = 0\n",
        "\n",
        "for i in range(0, 4) :\n",
        "  numList[i] = int(input(\"숫자: \"))\n",
        "\n",
        "hap = numList[0] + numList[i] + numList[2] + numList[3]\n",
        "\n",
        "print(\"합계 ==>\", hap)"
      ]
    },
    {
      "cell_type": "code",
      "source": [
        "print(\"홍길동 선수 경기 끝났습니다.\")\n",
        " \n",
        "score = []\n",
        "for i in range(5) :\n",
        "  some = int(input(\"평균 점수 ==>\"))\n",
        "  score.append(some)\n",
        "\n",
        "  some = 0\n",
        "  for i in range(5) :\n",
        "      some += score[i]\n",
        "    \n",
        "\n",
        "avg = some / 5\n",
        "print(\"심사위원 평균 점수: \", avg)"
      ],
      "metadata": {
        "id": "CrsF2Iknampw"
      },
      "execution_count": null,
      "outputs": []
    },
    {
      "cell_type": "code",
      "source": [
        "toss = []\n",
        "for i in range(10000):\n",
        "    comA = random.choice([\"가위\", \"바위\", \"보\"])\n",
        "    comB = random.choice([\"가위\", \"바위\", \"보\"])\n",
        "\n",
        "    if (comA == comB) :\n",
        "      toss.append(\"비김\")\n",
        "    elif(comA == \"가위\") and (comB == \"보\") or \\\n",
        "        (comA == \"바위\") and (comB == \"가위\") or \\\n",
        "        (comA == \"보\") and (comB == \"바위\"):\n",
        "      toss.append(\"A\")\n",
        "    else:\n",
        "      toss.append(\"B\")\n",
        "    #print(comA, comB, toss[i])\n",
        "\n",
        "awin = toss.count(\"A\")\n",
        "bwin = toss.count(\"B\")"
      ],
      "metadata": {
        "id": "8P3nJ9eyfJKd"
      },
      "execution_count": 24,
      "outputs": []
    },
    {
      "cell_type": "code",
      "source": [],
      "metadata": {
        "id": "qdbLWRI3iGJI"
      },
      "execution_count": null,
      "outputs": []
    }
  ]
}