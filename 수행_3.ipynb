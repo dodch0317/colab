{
  "nbformat": 4,
  "nbformat_minor": 0,
  "metadata": {
    "colab": {
      "provenance": [],
      "authorship_tag": "ABX9TyNMvclRZ5JJLnpzFj9u5PBh",
      "include_colab_link": true
    },
    "kernelspec": {
      "name": "python3",
      "display_name": "Python 3"
    },
    "language_info": {
      "name": "python"
    }
  },
  "cells": [
    {
      "cell_type": "markdown",
      "metadata": {
        "id": "view-in-github",
        "colab_type": "text"
      },
      "source": [
        "<a href=\"https://colab.research.google.com/github/dodch0317/colab/blob/main/%EC%88%98%ED%96%89_3.ipynb\" target=\"_parent\"><img src=\"https://colab.research.google.com/assets/colab-badge.svg\" alt=\"Open In Colab\"/></a>"
      ]
    },
    {
      "cell_type": "code",
      "execution_count": 4,
      "metadata": {
        "colab": {
          "base_uri": "https://localhost:8080/"
        },
        "id": "ngETHksHbB3E",
        "outputId": "5aacea8d-f528-4a52-de9a-240471d3797c"
      },
      "outputs": [
        {
          "output_type": "stream",
          "name": "stdout",
          "text": [
            "수를 입력하세요: 12\n",
            "12 짝수 입니다.\n"
          ]
        }
      ],
      "source": [
        "num = int(input(\"수를 입력하세요: \"))\n",
        "\n",
        "if num%2 == 1:\n",
        "    print(num, \"홀수 입니다.\")\n",
        "else:\n",
        "    print(num, \"짝수 입니다.\")"
      ]
    }
  ]
}